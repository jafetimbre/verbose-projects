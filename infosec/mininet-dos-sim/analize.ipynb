{
  "cells": [
    {
      "cell_type": "markdown",
      "metadata": {
        "id": "view-in-github",
        "colab_type": "text"
      },
      "source": [
        "<a href=\"https://colab.research.google.com/github/jafetimbre/verbose-projects/blob/master/infosec/mininet-dos-sim/analize.ipynb\" target=\"_parent\"><img src=\"https://colab.research.google.com/assets/colab-badge.svg\" alt=\"Open In Colab\"/></a>"
      ]
    },
    {
      "cell_type": "code",
      "execution_count": null,
      "metadata": {
        "id": "bHyWikF5mnEZ"
      },
      "outputs": [],
      "source": [
        "import numpy as np\n",
        "import pandas as pd\n",
        "import matplotlib.pyplot as plt"
      ]
    },
    {
      "cell_type": "markdown",
      "source": [
        "![DoS attack simulation diagram](https://raw.githubusercontent.com/jafetimbre/verbose-projects/master/infosec/mininet-dos-sim/simulation_diagram.png \"DoS attack simulation diagram\")\n",
        "\n",
        "For more information, check out the simulation code [here](https://github.com/jafetimbre/verbose-projects/blob/master/infosec/mininet-dos-sim/simulation.py)\n",
        "\n",
        "We are analyzing the traffic after the ping request-reply phase (usual traffic + dos)."
      ],
      "metadata": {
        "id": "nQLcvp8QeoRa"
      }
    },
    {
      "cell_type": "code",
      "execution_count": 8,
      "metadata": {
        "id": "bRlTyKSWmnEg"
      },
      "outputs": [],
      "source": [
        "host_1 = pd.read_csv(\"https://raw.githubusercontent.com/jafetimbre/verbose-projects/master/infosec/mininet-dos-sim/data/h1-eth0.csv\")\n",
        "host_2 = pd.read_csv(\"https://raw.githubusercontent.com/jafetimbre/verbose-projects/master/infosec/mininet-dos-sim/data/h2-eth0.csv\")\n",
        "host_3 = pd.read_csv(\"https://raw.githubusercontent.com/jafetimbre/verbose-projects/master/infosec/mininet-dos-sim/data/h3-eth0.csv\")"
      ]
    },
    {
      "cell_type": "code",
      "source": [
        "host_1.head()"
      ],
      "metadata": {
        "id": "AM06YdHtdmBv",
        "outputId": "b9a35164-595d-4dde-aa34-2a0b9e6e1b46",
        "colab": {
          "base_uri": "https://localhost:8080/",
          "height": 206
        }
      },
      "execution_count": 10,
      "outputs": [
        {
          "output_type": "execute_result",
          "data": {
            "text/html": [
              "\n",
              "  <div id=\"df-cec736cd-6a68-4974-8d49-7dfa5257afbd\">\n",
              "    <div class=\"colab-df-container\">\n",
              "      <div>\n",
              "<style scoped>\n",
              "    .dataframe tbody tr th:only-of-type {\n",
              "        vertical-align: middle;\n",
              "    }\n",
              "\n",
              "    .dataframe tbody tr th {\n",
              "        vertical-align: top;\n",
              "    }\n",
              "\n",
              "    .dataframe thead th {\n",
              "        text-align: right;\n",
              "    }\n",
              "</style>\n",
              "<table border=\"1\" class=\"dataframe\">\n",
              "  <thead>\n",
              "    <tr style=\"text-align: right;\">\n",
              "      <th></th>\n",
              "      <th>No.</th>\n",
              "      <th>Time</th>\n",
              "      <th>Source</th>\n",
              "      <th>Destination</th>\n",
              "      <th>Protocol</th>\n",
              "      <th>Length</th>\n",
              "      <th>Info</th>\n",
              "    </tr>\n",
              "  </thead>\n",
              "  <tbody>\n",
              "    <tr>\n",
              "      <th>0</th>\n",
              "      <td>1</td>\n",
              "      <td>0.000000</td>\n",
              "      <td>10.0.0.2</td>\n",
              "      <td>10.0.0.1</td>\n",
              "      <td>TCP</td>\n",
              "      <td>7306</td>\n",
              "      <td>60410  &gt;  5001 [PSH, ACK] Seq=1 Ack=1 Win=83 L...</td>\n",
              "    </tr>\n",
              "    <tr>\n",
              "      <th>1</th>\n",
              "      <td>2</td>\n",
              "      <td>0.000040</td>\n",
              "      <td>10.0.0.1</td>\n",
              "      <td>10.0.0.2</td>\n",
              "      <td>TCP</td>\n",
              "      <td>66</td>\n",
              "      <td>5001  &gt;  60410 [ACK] Seq=1 Ack=7241 Win=78 Len...</td>\n",
              "    </tr>\n",
              "    <tr>\n",
              "      <th>2</th>\n",
              "      <td>3</td>\n",
              "      <td>0.066453</td>\n",
              "      <td>10.0.0.2</td>\n",
              "      <td>10.0.0.1</td>\n",
              "      <td>TCP</td>\n",
              "      <td>10202</td>\n",
              "      <td>60410  &gt;  5001 [PSH, ACK] Seq=7241 Ack=1 Win=8...</td>\n",
              "    </tr>\n",
              "    <tr>\n",
              "      <th>3</th>\n",
              "      <td>4</td>\n",
              "      <td>0.066478</td>\n",
              "      <td>10.0.0.1</td>\n",
              "      <td>10.0.0.2</td>\n",
              "      <td>TCP</td>\n",
              "      <td>66</td>\n",
              "      <td>5001  &gt;  60410 [ACK] Seq=1 Ack=17377 Win=75 Le...</td>\n",
              "    </tr>\n",
              "    <tr>\n",
              "      <th>4</th>\n",
              "      <td>5</td>\n",
              "      <td>0.145256</td>\n",
              "      <td>10.0.0.2</td>\n",
              "      <td>10.0.0.1</td>\n",
              "      <td>TCP</td>\n",
              "      <td>4410</td>\n",
              "      <td>60410  &gt;  5001 [PSH, ACK] Seq=17377 Ack=1 Win=...</td>\n",
              "    </tr>\n",
              "  </tbody>\n",
              "</table>\n",
              "</div>\n",
              "      <button class=\"colab-df-convert\" onclick=\"convertToInteractive('df-cec736cd-6a68-4974-8d49-7dfa5257afbd')\"\n",
              "              title=\"Convert this dataframe to an interactive table.\"\n",
              "              style=\"display:none;\">\n",
              "        \n",
              "  <svg xmlns=\"http://www.w3.org/2000/svg\" height=\"24px\"viewBox=\"0 0 24 24\"\n",
              "       width=\"24px\">\n",
              "    <path d=\"M0 0h24v24H0V0z\" fill=\"none\"/>\n",
              "    <path d=\"M18.56 5.44l.94 2.06.94-2.06 2.06-.94-2.06-.94-.94-2.06-.94 2.06-2.06.94zm-11 1L8.5 8.5l.94-2.06 2.06-.94-2.06-.94L8.5 2.5l-.94 2.06-2.06.94zm10 10l.94 2.06.94-2.06 2.06-.94-2.06-.94-.94-2.06-.94 2.06-2.06.94z\"/><path d=\"M17.41 7.96l-1.37-1.37c-.4-.4-.92-.59-1.43-.59-.52 0-1.04.2-1.43.59L10.3 9.45l-7.72 7.72c-.78.78-.78 2.05 0 2.83L4 21.41c.39.39.9.59 1.41.59.51 0 1.02-.2 1.41-.59l7.78-7.78 2.81-2.81c.8-.78.8-2.07 0-2.86zM5.41 20L4 18.59l7.72-7.72 1.47 1.35L5.41 20z\"/>\n",
              "  </svg>\n",
              "      </button>\n",
              "      \n",
              "  <style>\n",
              "    .colab-df-container {\n",
              "      display:flex;\n",
              "      flex-wrap:wrap;\n",
              "      gap: 12px;\n",
              "    }\n",
              "\n",
              "    .colab-df-convert {\n",
              "      background-color: #E8F0FE;\n",
              "      border: none;\n",
              "      border-radius: 50%;\n",
              "      cursor: pointer;\n",
              "      display: none;\n",
              "      fill: #1967D2;\n",
              "      height: 32px;\n",
              "      padding: 0 0 0 0;\n",
              "      width: 32px;\n",
              "    }\n",
              "\n",
              "    .colab-df-convert:hover {\n",
              "      background-color: #E2EBFA;\n",
              "      box-shadow: 0px 1px 2px rgba(60, 64, 67, 0.3), 0px 1px 3px 1px rgba(60, 64, 67, 0.15);\n",
              "      fill: #174EA6;\n",
              "    }\n",
              "\n",
              "    [theme=dark] .colab-df-convert {\n",
              "      background-color: #3B4455;\n",
              "      fill: #D2E3FC;\n",
              "    }\n",
              "\n",
              "    [theme=dark] .colab-df-convert:hover {\n",
              "      background-color: #434B5C;\n",
              "      box-shadow: 0px 1px 3px 1px rgba(0, 0, 0, 0.15);\n",
              "      filter: drop-shadow(0px 1px 2px rgba(0, 0, 0, 0.3));\n",
              "      fill: #FFFFFF;\n",
              "    }\n",
              "  </style>\n",
              "\n",
              "      <script>\n",
              "        const buttonEl =\n",
              "          document.querySelector('#df-cec736cd-6a68-4974-8d49-7dfa5257afbd button.colab-df-convert');\n",
              "        buttonEl.style.display =\n",
              "          google.colab.kernel.accessAllowed ? 'block' : 'none';\n",
              "\n",
              "        async function convertToInteractive(key) {\n",
              "          const element = document.querySelector('#df-cec736cd-6a68-4974-8d49-7dfa5257afbd');\n",
              "          const dataTable =\n",
              "            await google.colab.kernel.invokeFunction('convertToInteractive',\n",
              "                                                     [key], {});\n",
              "          if (!dataTable) return;\n",
              "\n",
              "          const docLinkHtml = 'Like what you see? Visit the ' +\n",
              "            '<a target=\"_blank\" href=https://colab.research.google.com/notebooks/data_table.ipynb>data table notebook</a>'\n",
              "            + ' to learn more about interactive tables.';\n",
              "          element.innerHTML = '';\n",
              "          dataTable['output_type'] = 'display_data';\n",
              "          await google.colab.output.renderOutput(dataTable, element);\n",
              "          const docLink = document.createElement('div');\n",
              "          docLink.innerHTML = docLinkHtml;\n",
              "          element.appendChild(docLink);\n",
              "        }\n",
              "      </script>\n",
              "    </div>\n",
              "  </div>\n",
              "  "
            ],
            "text/plain": [
              "   No.      Time  ... Length                                               Info\n",
              "0    1  0.000000  ...   7306  60410  >  5001 [PSH, ACK] Seq=1 Ack=1 Win=83 L...\n",
              "1    2  0.000040  ...     66  5001  >  60410 [ACK] Seq=1 Ack=7241 Win=78 Len...\n",
              "2    3  0.066453  ...  10202  60410  >  5001 [PSH, ACK] Seq=7241 Ack=1 Win=8...\n",
              "3    4  0.066478  ...     66  5001  >  60410 [ACK] Seq=1 Ack=17377 Win=75 Le...\n",
              "4    5  0.145256  ...   4410  60410  >  5001 [PSH, ACK] Seq=17377 Ack=1 Win=...\n",
              "\n",
              "[5 rows x 7 columns]"
            ]
          },
          "metadata": {},
          "execution_count": 10
        }
      ]
    },
    {
      "cell_type": "code",
      "source": [
        "# forming the indexes as datetime for further analysis\n",
        "host_1 = host_1.set_index(pd.DatetimeIndex(pd.to_datetime(host_1[\"Time\"], unit=\"s\")))\n",
        "host_2 = host_2.set_index(pd.DatetimeIndex(pd.to_datetime(host_2[\"Time\"], unit=\"s\")))\n",
        "host_3 = host_3.set_index(pd.DatetimeIndex(pd.to_datetime(host_3[\"Time\"], unit=\"s\")))"
      ],
      "metadata": {
        "id": "9AgXIxlKnmOa"
      },
      "execution_count": 44,
      "outputs": []
    },
    {
      "cell_type": "code",
      "source": [
        "# Computing packet frequency with 1s window\n",
        "h1_pkt_freq = host_1.resample('1S').count()[\"Time\"]\n",
        "h2_pkt_freq = host_2.resample('1S').count()[\"Time\"]"
      ],
      "metadata": {
        "id": "EW1OMO42q6OR"
      },
      "execution_count": 65,
      "outputs": []
    },
    {
      "cell_type": "code",
      "source": [
        "plt.plot(h1_pkt_freq)"
      ],
      "metadata": {
        "id": "TryRedsvav3E",
        "outputId": "f6414187-a977-4822-f494-b58327cded03",
        "colab": {
          "base_uri": "https://localhost:8080/",
          "height": 282
        }
      },
      "execution_count": 66,
      "outputs": [
        {
          "output_type": "execute_result",
          "data": {
            "text/plain": [
              "[<matplotlib.lines.Line2D at 0x7fa9f08289d0>]"
            ]
          },
          "metadata": {},
          "execution_count": 66
        },
        {
          "output_type": "display_data",
          "data": {
            "image/png": "[encoded data removed]",
            "text/plain": [
              "<Figure size 432x288 with 1 Axes>"
            ]
          },
          "metadata": {
            "needs_background": "light"
          }
        }
      ]
    },
    {
      "cell_type": "code",
      "source": [
        "plt.plot(h2_pkt_freq)"
      ],
      "metadata": {
        "id": "ReGtZHAIc5nt",
        "outputId": "c5ed655b-c5c4-472c-cdca-18442d83cdee",
        "colab": {
          "base_uri": "https://localhost:8080/",
          "height": 282
        }
      },
      "execution_count": 67,
      "outputs": [
        {
          "output_type": "execute_result",
          "data": {
            "text/plain": [
              "[<matplotlib.lines.Line2D at 0x7fa9f075c690>]"
            ]
          },
          "metadata": {},
          "execution_count": 67
        },
        {
          "output_type": "display_data",
          "data": {
            "image/png": "[encoded data removed]",
            "text/plain": [
              "<Figure size 432x288 with 1 Axes>"
            ]
          },
          "metadata": {
            "needs_background": "light"
          }
        }
      ]
    },
    {
      "cell_type": "code",
      "source": [
        "t = host_1[\"Time\"].resample('500ms').count().rolling(2).var()\n",
        "plt.plot(t)"
      ],
      "metadata": {
        "id": "E1FDXuYQmZz_",
        "outputId": "3ca100d3-a890-48c3-a36e-517473747db8",
        "colab": {
          "base_uri": "https://localhost:8080/",
          "height": 282
        }
      },
      "execution_count": 85,
      "outputs": [
        {
          "output_type": "execute_result",
          "data": {
            "text/plain": [
              "[<matplotlib.lines.Line2D at 0x7fa9f0105d10>]"
            ]
          },
          "metadata": {},
          "execution_count": 85
        },
        {
          "output_type": "display_data",
          "data": {
            "image/png": "[encoded data removed]",
            "text/plain": [
              "<Figure size 432x288 with 1 Axes>"
            ]
          },
          "metadata": {
            "needs_background": "light"
          }
        }
      ]
    },
    {
      "cell_type": "code",
      "source": [
        "t = host_1[\"Time\"].resample('500ms').count().rolling(2).std()\n",
        "plt.plot(t)"
      ],
      "metadata": {
        "id": "BvVaOkIim9Xo",
        "outputId": "404f813d-4122-4f45-a089-4a22a5b70694",
        "colab": {
          "base_uri": "https://localhost:8080/",
          "height": 286
        }
      },
      "execution_count": 86,
      "outputs": [
        {
          "output_type": "execute_result",
          "data": {
            "text/plain": [
              "[<matplotlib.lines.Line2D at 0x7fa9f009ce50>]"
            ]
          },
          "metadata": {},
          "execution_count": 86
        },
        {
          "output_type": "display_data",
          "data": {
            "image/png": "[encoded data removed]",
            "text/plain": [
              "<Figure size 432x288 with 1 Axes>"
            ]
          },
          "metadata": {
            "needs_background": "light"
          }
        }
      ]
    },
    {
      "cell_type": "code",
      "source": [
        "# TODO: filter source host 3 and analyse\n"
      ],
      "metadata": {
        "id": "1vgQC8s9s9pK"
      },
      "execution_count": null,
      "outputs": []
    }
  ],
  "metadata": {
    "interpreter": {
      "hash": "3307cd9af70dd84d0f121b37627d982a0e79b34712ffcc29f8bf2506d2030f09"
    },
    "kernelspec": {
      "display_name": "Python 3.8.6 64-bit (system)",
      "language": "python",
      "name": "python3"
    },
    "language_info": {
      "codemirror_mode": {
        "name": "ipython",
        "version": 3
      },
      "file_extension": ".py",
      "mimetype": "text/x-python",
      "name": "python",
      "nbconvert_exporter": "python",
      "pygments_lexer": "ipython3",
      "version": "3.8.6"
    },
    "orig_nbformat": 4,
    "colab": {
      "name": "analize.ipynb",
      "provenance": [],
      "include_colab_link": true
    }
  },
  "nbformat": 4,
  "nbformat_minor": 0
}