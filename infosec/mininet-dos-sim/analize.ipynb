{
  "cells": [
    {
      "cell_type": "markdown",
      "metadata": {
        "id": "view-in-github",
        "colab_type": "text"
      },
      "source": [
        "<a href=\"https://colab.research.google.com/github/jafetimbre/verbose-projects/blob/master/infosec/mininet-dos-sim/analize.ipynb\" target=\"_parent\"><img src=\"https://colab.research.google.com/assets/colab-badge.svg\" alt=\"Open In Colab\"/></a>"
      ]
    },
    {
      "cell_type": "code",
      "execution_count": 1,
      "metadata": {
        "id": "bHyWikF5mnEZ"
      },
      "outputs": [],
      "source": [
        "import numpy as np\n",
        "import pandas as pd\n",
        "import matplotlib.pyplot as plt"
      ]
    },
    {
      "cell_type": "markdown",
      "source": [
        "![DoS attack simulation diagram](https://raw.githubusercontent.com/jafetimbre/verbose-projects/master/infosec/mininet-dos-sim/simulation_diagram.png \"DoS attack simulation diagram\")\n",
        "\n",
        "For more information, check out the simulation code [here](https://github.com/jafetimbre/verbose-projects/blob/master/infosec/mininet-dos-sim/simulation.py)\n",
        "\n",
        "We are analyzing the traffic after the ping request-reply phase (usual traffic + dos)."
      ],
      "metadata": {
        "id": "nQLcvp8QeoRa"
      }
    },
    {
      "cell_type": "code",
      "execution_count": 2,
      "metadata": {
        "id": "bRlTyKSWmnEg"
      },
      "outputs": [],
      "source": [
        "host_1 = pd.read_csv(\"https://raw.githubusercontent.com/jafetimbre/verbose-projects/master/infosec/mininet-dos-sim/data/h1-eth0.csv\")\n",
        "# host_2 = pd.read_csv(\"https://raw.githubusercontent.com/jafetimbre/verbose-projects/master/infosec/mininet-dos-sim/data/h2-eth0.csv\")\n",
        "# host_3 = pd.read_csv(\"https://raw.githubusercontent.com/jafetimbre/verbose-projects/master/infosec/mininet-dos-sim/data/h3-eth0.csv\")"
      ]
    },
    {
      "cell_type": "code",
      "source": [
        "host_1"
      ],
      "metadata": {
        "id": "AM06YdHtdmBv",
        "outputId": "2aa68249-cca7-4ae4-9d09-19bd669efc25",
        "colab": {
          "base_uri": "https://localhost:8080/",
          "height": 424
        }
      },
      "execution_count": 3,
      "outputs": [
        {
          "output_type": "execute_result",
          "data": {
            "text/html": [
              "\n",
              "  <div id=\"df-8c096e1c-443a-4f65-ad6e-43221949308d\">\n",
              "    <div class=\"colab-df-container\">\n",
              "      <div>\n",
              "<style scoped>\n",
              "    .dataframe tbody tr th:only-of-type {\n",
              "        vertical-align: middle;\n",
              "    }\n",
              "\n",
              "    .dataframe tbody tr th {\n",
              "        vertical-align: top;\n",
              "    }\n",
              "\n",
              "    .dataframe thead th {\n",
              "        text-align: right;\n",
              "    }\n",
              "</style>\n",
              "<table border=\"1\" class=\"dataframe\">\n",
              "  <thead>\n",
              "    <tr style=\"text-align: right;\">\n",
              "      <th></th>\n",
              "      <th>No.</th>\n",
              "      <th>Time</th>\n",
              "      <th>Source</th>\n",
              "      <th>Destination</th>\n",
              "      <th>Protocol</th>\n",
              "      <th>Length</th>\n",
              "      <th>Info</th>\n",
              "    </tr>\n",
              "  </thead>\n",
              "  <tbody>\n",
              "    <tr>\n",
              "      <th>0</th>\n",
              "      <td>1</td>\n",
              "      <td>0.000000</td>\n",
              "      <td>10.0.0.2</td>\n",
              "      <td>10.0.0.1</td>\n",
              "      <td>TCP</td>\n",
              "      <td>7306</td>\n",
              "      <td>60410  &gt;  5001 [PSH, ACK] Seq=1 Ack=1 Win=83 L...</td>\n",
              "    </tr>\n",
              "    <tr>\n",
              "      <th>1</th>\n",
              "      <td>2</td>\n",
              "      <td>0.000040</td>\n",
              "      <td>10.0.0.1</td>\n",
              "      <td>10.0.0.2</td>\n",
              "      <td>TCP</td>\n",
              "      <td>66</td>\n",
              "      <td>5001  &gt;  60410 [ACK] Seq=1 Ack=7241 Win=78 Len...</td>\n",
              "    </tr>\n",
              "    <tr>\n",
              "      <th>2</th>\n",
              "      <td>3</td>\n",
              "      <td>0.066453</td>\n",
              "      <td>10.0.0.2</td>\n",
              "      <td>10.0.0.1</td>\n",
              "      <td>TCP</td>\n",
              "      <td>10202</td>\n",
              "      <td>60410  &gt;  5001 [PSH, ACK] Seq=7241 Ack=1 Win=8...</td>\n",
              "    </tr>\n",
              "    <tr>\n",
              "      <th>3</th>\n",
              "      <td>4</td>\n",
              "      <td>0.066478</td>\n",
              "      <td>10.0.0.1</td>\n",
              "      <td>10.0.0.2</td>\n",
              "      <td>TCP</td>\n",
              "      <td>66</td>\n",
              "      <td>5001  &gt;  60410 [ACK] Seq=1 Ack=17377 Win=75 Le...</td>\n",
              "    </tr>\n",
              "    <tr>\n",
              "      <th>4</th>\n",
              "      <td>5</td>\n",
              "      <td>0.145256</td>\n",
              "      <td>10.0.0.2</td>\n",
              "      <td>10.0.0.1</td>\n",
              "      <td>TCP</td>\n",
              "      <td>4410</td>\n",
              "      <td>60410  &gt;  5001 [PSH, ACK] Seq=17377 Ack=1 Win=...</td>\n",
              "    </tr>\n",
              "    <tr>\n",
              "      <th>...</th>\n",
              "      <td>...</td>\n",
              "      <td>...</td>\n",
              "      <td>...</td>\n",
              "      <td>...</td>\n",
              "      <td>...</td>\n",
              "      <td>...</td>\n",
              "      <td>...</td>\n",
              "    </tr>\n",
              "    <tr>\n",
              "      <th>37751</th>\n",
              "      <td>37752</td>\n",
              "      <td>49.151673</td>\n",
              "      <td>10.0.0.2</td>\n",
              "      <td>10.0.0.1</td>\n",
              "      <td>TCP</td>\n",
              "      <td>2962</td>\n",
              "      <td>60410  &gt;  5001 [PSH, ACK] Seq=4238297 Ack=1 Wi...</td>\n",
              "    </tr>\n",
              "    <tr>\n",
              "      <th>37752</th>\n",
              "      <td>37753</td>\n",
              "      <td>49.151703</td>\n",
              "      <td>10.0.0.1</td>\n",
              "      <td>10.0.0.2</td>\n",
              "      <td>TCP</td>\n",
              "      <td>66</td>\n",
              "      <td>5001  &gt;  60410 [ACK] Seq=1 Ack=4241193 Win=82 ...</td>\n",
              "    </tr>\n",
              "    <tr>\n",
              "      <th>37753</th>\n",
              "      <td>37754</td>\n",
              "      <td>49.176859</td>\n",
              "      <td>10.0.0.2</td>\n",
              "      <td>10.0.0.1</td>\n",
              "      <td>TCP</td>\n",
              "      <td>1514</td>\n",
              "      <td>60410  &gt;  5001 [ACK] Seq=4241193 Ack=1 Win=83 ...</td>\n",
              "    </tr>\n",
              "    <tr>\n",
              "      <th>37754</th>\n",
              "      <td>37755</td>\n",
              "      <td>49.188067</td>\n",
              "      <td>10.0.0.2</td>\n",
              "      <td>10.0.0.1</td>\n",
              "      <td>TCP</td>\n",
              "      <td>2962</td>\n",
              "      <td>60410  &gt;  5001 [PSH, ACK] Seq=4242641 Ack=1 Wi...</td>\n",
              "    </tr>\n",
              "    <tr>\n",
              "      <th>37755</th>\n",
              "      <td>37756</td>\n",
              "      <td>49.188099</td>\n",
              "      <td>10.0.0.1</td>\n",
              "      <td>10.0.0.2</td>\n",
              "      <td>TCP</td>\n",
              "      <td>66</td>\n",
              "      <td>5001  &gt;  60410 [ACK] Seq=1 Ack=4245537 Win=82 ...</td>\n",
              "    </tr>\n",
              "  </tbody>\n",
              "</table>\n",
              "<p>37756 rows × 7 columns</p>\n",
              "</div>\n",
              "      <button class=\"colab-df-convert\" onclick=\"convertToInteractive('df-8c096e1c-443a-4f65-ad6e-43221949308d')\"\n",
              "              title=\"Convert this dataframe to an interactive table.\"\n",
              "              style=\"display:none;\">\n",
              "        \n",
              "  <svg xmlns=\"http://www.w3.org/2000/svg\" height=\"24px\"viewBox=\"0 0 24 24\"\n",
              "       width=\"24px\">\n",
              "    <path d=\"M0 0h24v24H0V0z\" fill=\"none\"/>\n",
              "    <path d=\"M18.56 5.44l.94 2.06.94-2.06 2.06-.94-2.06-.94-.94-2.06-.94 2.06-2.06.94zm-11 1L8.5 8.5l.94-2.06 2.06-.94-2.06-.94L8.5 2.5l-.94 2.06-2.06.94zm10 10l.94 2.06.94-2.06 2.06-.94-2.06-.94-.94-2.06-.94 2.06-2.06.94z\"/><path d=\"M17.41 7.96l-1.37-1.37c-.4-.4-.92-.59-1.43-.59-.52 0-1.04.2-1.43.59L10.3 9.45l-7.72 7.72c-.78.78-.78 2.05 0 2.83L4 21.41c.39.39.9.59 1.41.59.51 0 1.02-.2 1.41-.59l7.78-7.78 2.81-2.81c.8-.78.8-2.07 0-2.86zM5.41 20L4 18.59l7.72-7.72 1.47 1.35L5.41 20z\"/>\n",
              "  </svg>\n",
              "      </button>\n",
              "      \n",
              "  <style>\n",
              "    .colab-df-container {\n",
              "      display:flex;\n",
              "      flex-wrap:wrap;\n",
              "      gap: 12px;\n",
              "    }\n",
              "\n",
              "    .colab-df-convert {\n",
              "      background-color: #E8F0FE;\n",
              "      border: none;\n",
              "      border-radius: 50%;\n",
              "      cursor: pointer;\n",
              "      display: none;\n",
              "      fill: #1967D2;\n",
              "      height: 32px;\n",
              "      padding: 0 0 0 0;\n",
              "      width: 32px;\n",
              "    }\n",
              "\n",
              "    .colab-df-convert:hover {\n",
              "      background-color: #E2EBFA;\n",
              "      box-shadow: 0px 1px 2px rgba(60, 64, 67, 0.3), 0px 1px 3px 1px rgba(60, 64, 67, 0.15);\n",
              "      fill: #174EA6;\n",
              "    }\n",
              "\n",
              "    [theme=dark] .colab-df-convert {\n",
              "      background-color: #3B4455;\n",
              "      fill: #D2E3FC;\n",
              "    }\n",
              "\n",
              "    [theme=dark] .colab-df-convert:hover {\n",
              "      background-color: #434B5C;\n",
              "      box-shadow: 0px 1px 3px 1px rgba(0, 0, 0, 0.15);\n",
              "      filter: drop-shadow(0px 1px 2px rgba(0, 0, 0, 0.3));\n",
              "      fill: #FFFFFF;\n",
              "    }\n",
              "  </style>\n",
              "\n",
              "      <script>\n",
              "        const buttonEl =\n",
              "          document.querySelector('#df-8c096e1c-443a-4f65-ad6e-43221949308d button.colab-df-convert');\n",
              "        buttonEl.style.display =\n",
              "          google.colab.kernel.accessAllowed ? 'block' : 'none';\n",
              "\n",
              "        async function convertToInteractive(key) {\n",
              "          const element = document.querySelector('#df-8c096e1c-443a-4f65-ad6e-43221949308d');\n",
              "          const dataTable =\n",
              "            await google.colab.kernel.invokeFunction('convertToInteractive',\n",
              "                                                     [key], {});\n",
              "          if (!dataTable) return;\n",
              "\n",
              "          const docLinkHtml = 'Like what you see? Visit the ' +\n",
              "            '<a target=\"_blank\" href=https://colab.research.google.com/notebooks/data_table.ipynb>data table notebook</a>'\n",
              "            + ' to learn more about interactive tables.';\n",
              "          element.innerHTML = '';\n",
              "          dataTable['output_type'] = 'display_data';\n",
              "          await google.colab.output.renderOutput(dataTable, element);\n",
              "          const docLink = document.createElement('div');\n",
              "          docLink.innerHTML = docLinkHtml;\n",
              "          element.appendChild(docLink);\n",
              "        }\n",
              "      </script>\n",
              "    </div>\n",
              "  </div>\n",
              "  "
            ],
            "text/plain": [
              "         No.  ...                                               Info\n",
              "0          1  ...  60410  >  5001 [PSH, ACK] Seq=1 Ack=1 Win=83 L...\n",
              "1          2  ...  5001  >  60410 [ACK] Seq=1 Ack=7241 Win=78 Len...\n",
              "2          3  ...  60410  >  5001 [PSH, ACK] Seq=7241 Ack=1 Win=8...\n",
              "3          4  ...  5001  >  60410 [ACK] Seq=1 Ack=17377 Win=75 Le...\n",
              "4          5  ...  60410  >  5001 [PSH, ACK] Seq=17377 Ack=1 Win=...\n",
              "...      ...  ...                                                ...\n",
              "37751  37752  ...  60410  >  5001 [PSH, ACK] Seq=4238297 Ack=1 Wi...\n",
              "37752  37753  ...  5001  >  60410 [ACK] Seq=1 Ack=4241193 Win=82 ...\n",
              "37753  37754  ...  60410  >  5001 [ACK] Seq=4241193 Ack=1 Win=83 ...\n",
              "37754  37755  ...  60410  >  5001 [PSH, ACK] Seq=4242641 Ack=1 Wi...\n",
              "37755  37756  ...  5001  >  60410 [ACK] Seq=1 Ack=4245537 Win=82 ...\n",
              "\n",
              "[37756 rows x 7 columns]"
            ]
          },
          "metadata": {},
          "execution_count": 3
        }
      ]
    },
    {
      "cell_type": "code",
      "source": [
        "host_1.Destination.unique()"
      ],
      "metadata": {
        "id": "ou8HN9u2dt8k",
        "outputId": "f268fa9f-025d-49f8-f5b6-ccffbf5312e8",
        "colab": {
          "base_uri": "https://localhost:8080/"
        }
      },
      "execution_count": 4,
      "outputs": [
        {
          "output_type": "execute_result",
          "data": {
            "text/plain": [
              "array(['10.0.0.1', '10.0.0.2', 'ff02::2', 'ff02::fb', '10.0.0.3'],\n",
              "      dtype=object)"
            ]
          },
          "metadata": {},
          "execution_count": 4
        }
      ]
    },
    {
      "cell_type": "code",
      "source": [
        "host_1 = host_1.set_index(pd.DatetimeIndex(pd.to_datetime(host_1[\"Time\"], unit=\"s\")))\n"
      ],
      "metadata": {
        "id": "9AgXIxlKnmOa"
      },
      "execution_count": 5,
      "outputs": []
    },
    {
      "cell_type": "code",
      "source": [
        "freq = host_1.resample('1S').count()[\"Time\"]\n",
        "freq"
      ],
      "metadata": {
        "id": "ulnFiyKtZOec",
        "outputId": "46ef021a-df99-4313-e9cd-47a87aef351b",
        "colab": {
          "base_uri": "https://localhost:8080/"
        }
      },
      "execution_count": 6,
      "outputs": [
        {
          "output_type": "execute_result",
          "data": {
            "text/plain": [
              "Time\n",
              "1970-01-01 00:00:00      79\n",
              "1970-01-01 00:00:01      84\n",
              "1970-01-01 00:00:02      82\n",
              "1970-01-01 00:00:03      84\n",
              "1970-01-01 00:00:04      82\n",
              "1970-01-01 00:00:05      83\n",
              "1970-01-01 00:00:06      82\n",
              "1970-01-01 00:00:07      81\n",
              "1970-01-01 00:00:08      84\n",
              "1970-01-01 00:00:09      83\n",
              "1970-01-01 00:00:10    1668\n",
              "1970-01-01 00:00:11    1749\n",
              "1970-01-01 00:00:12    1787\n",
              "1970-01-01 00:00:13    1725\n",
              "1970-01-01 00:00:14    1725\n",
              "1970-01-01 00:00:15    1769\n",
              "1970-01-01 00:00:16    1772\n",
              "1970-01-01 00:00:17    1802\n",
              "1970-01-01 00:00:18    1772\n",
              "1970-01-01 00:00:19    1776\n",
              "1970-01-01 00:00:20    1738\n",
              "1970-01-01 00:00:21    1729\n",
              "1970-01-01 00:00:22    1756\n",
              "1970-01-01 00:00:23    1782\n",
              "1970-01-01 00:00:24    1744\n",
              "1970-01-01 00:00:25    1805\n",
              "1970-01-01 00:00:26    1772\n",
              "1970-01-01 00:00:27    1740\n",
              "1970-01-01 00:00:28    1720\n",
              "1970-01-01 00:00:29    1773\n",
              "1970-01-01 00:00:30     323\n",
              "1970-01-01 00:00:31      82\n",
              "1970-01-01 00:00:32      83\n",
              "1970-01-01 00:00:33      84\n",
              "1970-01-01 00:00:34      81\n",
              "1970-01-01 00:00:35      84\n",
              "1970-01-01 00:00:36      81\n",
              "1970-01-01 00:00:37      84\n",
              "1970-01-01 00:00:38      81\n",
              "1970-01-01 00:00:39      84\n",
              "1970-01-01 00:00:40      82\n",
              "1970-01-01 00:00:41      83\n",
              "1970-01-01 00:00:42      82\n",
              "1970-01-01 00:00:43      83\n",
              "1970-01-01 00:00:44      83\n",
              "1970-01-01 00:00:45      83\n",
              "1970-01-01 00:00:46      83\n",
              "1970-01-01 00:00:47      83\n",
              "1970-01-01 00:00:48      82\n",
              "1970-01-01 00:00:49      17\n",
              "Freq: S, Name: Time, dtype: int64"
            ]
          },
          "metadata": {},
          "execution_count": 6
        }
      ]
    },
    {
      "cell_type": "code",
      "source": [
        "plt.plot(freq)"
      ],
      "metadata": {
        "id": "TryRedsvav3E",
        "outputId": "97eeeda9-95de-4be0-b2e8-160b1f2a218f",
        "colab": {
          "base_uri": "https://localhost:8080/",
          "height": 282
        }
      },
      "execution_count": 7,
      "outputs": [
        {
          "output_type": "execute_result",
          "data": {
            "text/plain": [
              "[<matplotlib.lines.Line2D at 0x7fa9f689c490>]"
            ]
          },
          "metadata": {},
          "execution_count": 7
        },
        {
          "output_type": "display_data",
          "data": {
            "image/png": "[encoded data removed]",
            "text/plain": [
              "<Figure size 432x288 with 1 Axes>"
            ]
          },
          "metadata": {
            "needs_background": "light"
          }
        }
      ]
    },
    {
      "cell_type": "code",
      "source": [
        ""
      ],
      "metadata": {
        "id": "ReGtZHAIc5nt"
      },
      "execution_count": 7,
      "outputs": []
    }
  ],
  "metadata": {
    "interpreter": {
      "hash": "3307cd9af70dd84d0f121b37627d982a0e79b34712ffcc29f8bf2506d2030f09"
    },
    "kernelspec": {
      "display_name": "Python 3.8.6 64-bit (system)",
      "language": "python",
      "name": "python3"
    },
    "language_info": {
      "codemirror_mode": {
        "name": "ipython",
        "version": 3
      },
      "file_extension": ".py",
      "mimetype": "text/x-python",
      "name": "python",
      "nbconvert_exporter": "python",
      "pygments_lexer": "ipython3",
      "version": "3.8.6"
    },
    "orig_nbformat": 4,
    "colab": {
      "name": "analize.ipynb",
      "provenance": [],
      "include_colab_link": true
    }
  },
  "nbformat": 4,
  "nbformat_minor": 0
}