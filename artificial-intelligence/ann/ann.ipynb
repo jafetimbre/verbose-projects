{
  "cells": [
    {
      "cell_type": "markdown",
      "metadata": {
        "id": "view-in-github",
        "colab_type": "text"
      },
      "source": [
        "<a href=\"https://colab.research.google.com/github/jafetimbre/verbose-projects/blob/master/artificial-intelligence/ann/ann.ipynb\" target=\"_parent\"><img src=\"https://colab.research.google.com/assets/colab-badge.svg\" alt=\"Open In Colab\"/></a>"
      ]
    },
    {
      "cell_type": "code",
      "source": [
        "import numpy as np\n",
        "import pandas as pd\n",
        "import matplotlib.pyplot as plt"
      ],
      "metadata": {
        "id": "E0OulobikAGQ"
      },
      "execution_count": 6,
      "outputs": []
    },
    {
      "cell_type": "code",
      "source": [
        ""
      ],
      "metadata": {
        "id": "hOI3AEi6mt9F"
      },
      "execution_count": null,
      "outputs": []
    },
    {
      "cell_type": "code",
      "source": [
        "cols = [ \"Date\", \"Close\" ]\n",
        "tsla_data = pd.read_csv(\"https://raw.githubusercontent.com/jafetimbre/verbose-projects/master/statistics/stock-price-pred/res/tsla_2yr_data.csv\", usecols=cols)\n",
        "tsla_data.head()"
      ],
      "metadata": {
        "id": "AXO-s9TOmt58",
        "outputId": "c39d746c-a495-449e-e5e0-4309b8a85d17",
        "colab": {
          "base_uri": "https://localhost:8080/",
          "height": 206
        }
      },
      "execution_count": 19,
      "outputs": [
        {
          "output_type": "execute_result",
          "data": {
            "text/html": [
              "<div>\n",
              "<style scoped>\n",
              "    .dataframe tbody tr th:only-of-type {\n",
              "        vertical-align: middle;\n",
              "    }\n",
              "\n",
              "    .dataframe tbody tr th {\n",
              "        vertical-align: top;\n",
              "    }\n",
              "\n",
              "    .dataframe thead th {\n",
              "        text-align: right;\n",
              "    }\n",
              "</style>\n",
              "<table border=\"1\" class=\"dataframe\">\n",
              "  <thead>\n",
              "    <tr style=\"text-align: right;\">\n",
              "      <th></th>\n",
              "      <th>Date</th>\n",
              "      <th>Close</th>\n",
              "    </tr>\n",
              "  </thead>\n",
              "  <tbody>\n",
              "    <tr>\n",
              "      <th>0</th>\n",
              "      <td>2019-11-25</td>\n",
              "      <td>67.267998</td>\n",
              "    </tr>\n",
              "    <tr>\n",
              "      <th>1</th>\n",
              "      <td>2019-11-26</td>\n",
              "      <td>65.783997</td>\n",
              "    </tr>\n",
              "    <tr>\n",
              "      <th>2</th>\n",
              "      <td>2019-11-27</td>\n",
              "      <td>66.258003</td>\n",
              "    </tr>\n",
              "    <tr>\n",
              "      <th>3</th>\n",
              "      <td>2019-11-29</td>\n",
              "      <td>65.987999</td>\n",
              "    </tr>\n",
              "    <tr>\n",
              "      <th>4</th>\n",
              "      <td>2019-12-02</td>\n",
              "      <td>66.973999</td>\n",
              "    </tr>\n",
              "  </tbody>\n",
              "</table>\n",
              "</div>"
            ],
            "text/plain": [
              "         Date      Close\n",
              "0  2019-11-25  67.267998\n",
              "1  2019-11-26  65.783997\n",
              "2  2019-11-27  66.258003\n",
              "3  2019-11-29  65.987999\n",
              "4  2019-12-02  66.973999"
            ]
          },
          "metadata": {},
          "execution_count": 19
        }
      ]
    },
    {
      "cell_type": "code",
      "source": [
        "tsla_data.describe()"
      ],
      "metadata": {
        "id": "7Ek0Dz5WnsB-",
        "outputId": "ec14ffe5-5f52-4d92-d503-1b518bc306ed",
        "colab": {
          "base_uri": "https://localhost:8080/",
          "height": 300
        }
      },
      "execution_count": 20,
      "outputs": [
        {
          "output_type": "execute_result",
          "data": {
            "text/html": [
              "<div>\n",
              "<style scoped>\n",
              "    .dataframe tbody tr th:only-of-type {\n",
              "        vertical-align: middle;\n",
              "    }\n",
              "\n",
              "    .dataframe tbody tr th {\n",
              "        vertical-align: top;\n",
              "    }\n",
              "\n",
              "    .dataframe thead th {\n",
              "        text-align: right;\n",
              "    }\n",
              "</style>\n",
              "<table border=\"1\" class=\"dataframe\">\n",
              "  <thead>\n",
              "    <tr style=\"text-align: right;\">\n",
              "      <th></th>\n",
              "      <th>Close</th>\n",
              "    </tr>\n",
              "  </thead>\n",
              "  <tbody>\n",
              "    <tr>\n",
              "      <th>count</th>\n",
              "      <td>505.000000</td>\n",
              "    </tr>\n",
              "    <tr>\n",
              "      <th>mean</th>\n",
              "      <td>487.129175</td>\n",
              "    </tr>\n",
              "    <tr>\n",
              "      <th>std</th>\n",
              "      <td>288.413294</td>\n",
              "    </tr>\n",
              "    <tr>\n",
              "      <th>min</th>\n",
              "      <td>65.783997</td>\n",
              "    </tr>\n",
              "    <tr>\n",
              "      <th>25%</th>\n",
              "      <td>176.591995</td>\n",
              "    </tr>\n",
              "    <tr>\n",
              "      <th>50%</th>\n",
              "      <td>555.380005</td>\n",
              "    </tr>\n",
              "    <tr>\n",
              "      <th>75%</th>\n",
              "      <td>701.809998</td>\n",
              "    </tr>\n",
              "    <tr>\n",
              "      <th>max</th>\n",
              "      <td>1229.910034</td>\n",
              "    </tr>\n",
              "  </tbody>\n",
              "</table>\n",
              "</div>"
            ],
            "text/plain": [
              "             Close\n",
              "count   505.000000\n",
              "mean    487.129175\n",
              "std     288.413294\n",
              "min      65.783997\n",
              "25%     176.591995\n",
              "50%     555.380005\n",
              "75%     701.809998\n",
              "max    1229.910034"
            ]
          },
          "metadata": {},
          "execution_count": 20
        }
      ]
    },
    {
      "cell_type": "code",
      "source": [
        "\"plt.figure(figsize=(20,10))\n",
        "plt.title('Tesla stock Close value', size=16)\n",
        "plt.plot(tsla_data.Close, linewidth=2)\n",
        "plt.show()"
      ],
      "metadata": {
        "id": "gj829_XFmt2R",
        "outputId": "b8ca9618-8783-4e61-c614-f8d1f84f35c3",
        "colab": {
          "base_uri": "https://localhost:8080/",
          "height": 443
        }
      },
      "execution_count": 7,
      "outputs": [
        {
          "output_type": "display_data",
          "data": {
            "image/png": "[encoded data removed]",
            "text/plain": [
              "<Figure size 1440x720 with 1 Axes>"
            ]
          },
          "metadata": {
            "needs_background": "light"
          }
        }
      ]
    },
    {
      "cell_type": "code",
      "source": [
        "max = tsla_data.Close.max()\n",
        "data = pd.DataFrame({'val': tsla_data.Close / max})\n",
        "data.describe()"
      ],
      "metadata": {
        "id": "FksUrVUSmtz2",
        "outputId": "052969a0-f2f3-4716-a9af-069e9ef85bc4",
        "colab": {
          "base_uri": "https://localhost:8080/",
          "height": 300
        }
      },
      "execution_count": 13,
      "outputs": [
        {
          "output_type": "execute_result",
          "data": {
            "text/html": [
              "<div>\n",
              "<style scoped>\n",
              "    .dataframe tbody tr th:only-of-type {\n",
              "        vertical-align: middle;\n",
              "    }\n",
              "\n",
              "    .dataframe tbody tr th {\n",
              "        vertical-align: top;\n",
              "    }\n",
              "\n",
              "    .dataframe thead th {\n",
              "        text-align: right;\n",
              "    }\n",
              "</style>\n",
              "<table border=\"1\" class=\"dataframe\">\n",
              "  <thead>\n",
              "    <tr style=\"text-align: right;\">\n",
              "      <th></th>\n",
              "      <th>val</th>\n",
              "    </tr>\n",
              "  </thead>\n",
              "  <tbody>\n",
              "    <tr>\n",
              "      <th>count</th>\n",
              "      <td>505.000000</td>\n",
              "    </tr>\n",
              "    <tr>\n",
              "      <th>mean</th>\n",
              "      <td>0.396069</td>\n",
              "    </tr>\n",
              "    <tr>\n",
              "      <th>std</th>\n",
              "      <td>0.234500</td>\n",
              "    </tr>\n",
              "    <tr>\n",
              "      <th>min</th>\n",
              "      <td>0.053487</td>\n",
              "    </tr>\n",
              "    <tr>\n",
              "      <th>25%</th>\n",
              "      <td>0.143581</td>\n",
              "    </tr>\n",
              "    <tr>\n",
              "      <th>50%</th>\n",
              "      <td>0.451561</td>\n",
              "    </tr>\n",
              "    <tr>\n",
              "      <th>75%</th>\n",
              "      <td>0.570619</td>\n",
              "    </tr>\n",
              "    <tr>\n",
              "      <th>max</th>\n",
              "      <td>1.000000</td>\n",
              "    </tr>\n",
              "  </tbody>\n",
              "</table>\n",
              "</div>"
            ],
            "text/plain": [
              "              val\n",
              "count  505.000000\n",
              "mean     0.396069\n",
              "std      0.234500\n",
              "min      0.053487\n",
              "25%      0.143581\n",
              "50%      0.451561\n",
              "75%      0.570619\n",
              "max      1.000000"
            ]
          },
          "metadata": {},
          "execution_count": 13
        }
      ]
    },
    {
      "cell_type": "code",
      "source": [
        "data"
      ],
      "metadata": {
        "id": "AgtX32rlmtum",
        "outputId": "c8c33113-974f-451c-f964-f2907241afd4",
        "colab": {
          "base_uri": "https://localhost:8080/",
          "height": 424
        }
      },
      "execution_count": 21,
      "outputs": [
        {
          "output_type": "execute_result",
          "data": {
            "text/html": [
              "<div>\n",
              "<style scoped>\n",
              "    .dataframe tbody tr th:only-of-type {\n",
              "        vertical-align: middle;\n",
              "    }\n",
              "\n",
              "    .dataframe tbody tr th {\n",
              "        vertical-align: top;\n",
              "    }\n",
              "\n",
              "    .dataframe thead th {\n",
              "        text-align: right;\n",
              "    }\n",
              "</style>\n",
              "<table border=\"1\" class=\"dataframe\">\n",
              "  <thead>\n",
              "    <tr style=\"text-align: right;\">\n",
              "      <th></th>\n",
              "      <th>val</th>\n",
              "    </tr>\n",
              "  </thead>\n",
              "  <tbody>\n",
              "    <tr>\n",
              "      <th>0</th>\n",
              "      <td>0.054693</td>\n",
              "    </tr>\n",
              "    <tr>\n",
              "      <th>1</th>\n",
              "      <td>0.053487</td>\n",
              "    </tr>\n",
              "    <tr>\n",
              "      <th>2</th>\n",
              "      <td>0.053872</td>\n",
              "    </tr>\n",
              "    <tr>\n",
              "      <th>3</th>\n",
              "      <td>0.053653</td>\n",
              "    </tr>\n",
              "    <tr>\n",
              "      <th>4</th>\n",
              "      <td>0.054454</td>\n",
              "    </tr>\n",
              "    <tr>\n",
              "      <th>...</th>\n",
              "      <td>...</td>\n",
              "    </tr>\n",
              "    <tr>\n",
              "      <th>500</th>\n",
              "      <td>0.891431</td>\n",
              "    </tr>\n",
              "    <tr>\n",
              "      <th>501</th>\n",
              "      <td>0.924507</td>\n",
              "    </tr>\n",
              "    <tr>\n",
              "      <th>502</th>\n",
              "      <td>0.940614</td>\n",
              "    </tr>\n",
              "    <tr>\n",
              "      <th>503</th>\n",
              "      <td>0.901716</td>\n",
              "    </tr>\n",
              "    <tr>\n",
              "      <th>504</th>\n",
              "      <td>0.907383</td>\n",
              "    </tr>\n",
              "  </tbody>\n",
              "</table>\n",
              "<p>505 rows × 1 columns</p>\n",
              "</div>"
            ],
            "text/plain": [
              "          val\n",
              "0    0.054693\n",
              "1    0.053487\n",
              "2    0.053872\n",
              "3    0.053653\n",
              "4    0.054454\n",
              "..        ...\n",
              "500  0.891431\n",
              "501  0.924507\n",
              "502  0.940614\n",
              "503  0.901716\n",
              "504  0.907383\n",
              "\n",
              "[505 rows x 1 columns]"
            ]
          },
          "metadata": {},
          "execution_count": 21
        }
      ]
    },
    {
      "cell_type": "code",
      "source": [
        "def sigmoid(x, dx=False):\n",
        "    return 1.0 / (1.0 + np.exp(-x)) if not dx else sigmoid(x) * (1.0 - sigmoid(x))"
      ],
      "metadata": {
        "id": "_Dghu2Ahk3FR"
      },
      "execution_count": 74,
      "outputs": []
    },
    {
      "cell_type": "code",
      "source": [
        "a = np.array([1,2,3])\n",
        "ActivationFunctions.sigmoid(a)"
      ],
      "metadata": {
        "id": "Cz5QQrZfoy32",
        "outputId": "611bccbd-989a-4223-edca-45177e507afe",
        "colab": {
          "base_uri": "https://localhost:8080/"
        }
      },
      "execution_count": 28,
      "outputs": [
        {
          "output_type": "execute_result",
          "data": {
            "text/plain": [
              "array([0.73105858, 0.88079708, 0.95257413])"
            ]
          },
          "metadata": {},
          "execution_count": 28
        }
      ]
    },
    {
      "cell_type": "code",
      "source": [
        "class Layer():\n",
        "    def __init__(self, idx, dim, act_func=sigmoid, is_output=False):\n",
        "        self.idx = idx\n",
        "        self.weights = 2 * np.random.random(dim) - 1\n",
        "        self.is_output = is_output\n",
        "        self.act_func = act_func\n",
        "        # Valorile de iesire din neuroni \n",
        "        self.A = None\n",
        "        # Valorile de iesire prin funtia de activare derivata (pt eroare)\n",
        "        self.dZ = None\n",
        "        self.delta = None\n",
        "    \n",
        "    def feed_forward(self, x):\n",
        "        z = np.dot(x, self.weights)\n",
        "        self.A = self.act_func(z)\n",
        "        self.dZ = np.atleast_2d(self.act_func(z, dx=True))\n",
        "        return self.A\n",
        "\n",
        "    \n",
        "    def back_propagation(self, target, next_layer):\n",
        "        if self.is_output:\n",
        "            error = self.A - target\n",
        "            self.delta = np.atleast_2d(error * self.dZ)\n",
        "        else:\n",
        "            self.delta = np.atleast_2d(np.dot(next_layer.delta, next_layer.weights.T) * self.dZ)\n",
        "        return self.delta\n",
        "\n",
        "    def update_weights(self, learning_rate, prev_val):\n",
        "        val = np.atleast_2d(prev_val)\n",
        "        delt = np.atleast_2d(self.delta)\n",
        "        change = val.T.dot(delt)\n",
        "        self.weights -= learning_rate * change\n"
      ],
      "metadata": {
        "id": "SGgXF-OhkC88"
      },
      "execution_count": 152,
      "outputs": []
    },
    {
      "cell_type": "code",
      "source": [
        "class Network():\n",
        "    def __init__(self, layers_dim, activation_function):\n",
        "        self.data_entr_in = layers_dim[0]\n",
        "        self.data_entr_out = layers_dim[-1]\n",
        "        self.layers = []\n",
        "        for i in range(1, len(layers_dim)):\n",
        "            new_layer_dim = (layers_dim[i-1], layers_dim[i])\n",
        "            is_output_layer = i == len(layers_dim)-1\n",
        "            \n",
        "            self.layers.append(Layer(i, new_layer_dim, act_func=activation_function, is_output=is_output_layer))\n",
        "\n",
        "    \n",
        "    def fit(self, train_data, learning_rate=.2, iters=100):\n",
        "        errors = []\n",
        "        for iter_i in range(iters):\n",
        "            iter_error = 0\n",
        "\n",
        "            for dat_i in range(len(train_data) - self.data_entr_in):\n",
        "                data_slice_x = train_data[dat_i:dat_i + self.data_entr_in]\n",
        "                data_slice_y = train_data[dat_i + self.data_entr_in]\n",
        "                \n",
        "                step_val = data_slice_x\n",
        "                for layer in self.layers:\n",
        "                    step_val = layer.feed_forward(step_val)\n",
        "\n",
        "                iter_error += np.average(self.layers[-1].A - data_slice_y)\n",
        "\n",
        "                delta = self.layers[-1].back_propagation(data_slice_y, None)\n",
        "                for layer_i in range(len(self.layers)-2, -1, -1):\n",
        "                    delta = self.layers[layer_i].back_propagation(delta, self.layers[layer_i+1])\n",
        "\n",
        "                step_val = data_slice_x\n",
        "                for layer in self.layers:\n",
        "                    layer.update_weights(learning_rate, step_val)\n",
        "                    step_val = layer.A\n",
        "\n",
        "            errors.append(iter_error / dat_i)\n",
        "\n",
        "        return errors\n",
        "        \n",
        "    \n",
        "    def forecast(self, x):\n",
        "        step_val = np.array(x)\n",
        "        for layer in self.layers:\n",
        "            step_val = layer.feed_forward(step_val)\n",
        "        return step_val\n"
      ],
      "metadata": {
        "id": "FFvb1i5YlZpI"
      },
      "execution_count": 170,
      "outputs": []
    },
    {
      "cell_type": "code",
      "source": [
        "a = list(data.val)[:20]\n",
        "a"
      ],
      "metadata": {
        "id": "Tl4zgECgn7z3",
        "outputId": "1a505000-58e6-4d2d-ecbd-ae0f103d34bf",
        "colab": {
          "base_uri": "https://localhost:8080/"
        }
      },
      "execution_count": 145,
      "outputs": [
        {
          "output_type": "execute_result",
          "data": {
            "text/plain": [
              "[0.05469342949670699,\n",
              " 0.053486836235064276,\n",
              " 0.0538722356867796,\n",
              " 0.053652703960915586,\n",
              " 0.05445438866437667,\n",
              " 0.05467066370315172,\n",
              " 0.05415518286428272,\n",
              " 0.05372262658351914,\n",
              " 0.054620256390227995,\n",
              " 0.05521216702266495,\n",
              " 0.056726098497303784,\n",
              " 0.05735378926522489,\n",
              " 0.05848882845911283,\n",
              " 0.05827906059130222,\n",
              " 0.0620370603794997,\n",
              " 0.0616288951342291,\n",
              " 0.06393150317361365,\n",
              " 0.06570236554832487,\n",
              " 0.06595441451937055,\n",
              " 0.06817084131356073]"
            ]
          },
          "metadata": {},
          "execution_count": 145
        }
      ]
    },
    {
      "cell_type": "code",
      "source": [
        "n = Network([5, 10, 2], activation_function=sigmoid)\n",
        "err = n.fit(a, iters=100)"
      ],
      "metadata": {
        "id": "8QOvggd-H8ol"
      },
      "execution_count": 172,
      "outputs": []
    },
    {
      "cell_type": "code",
      "source": [
        "plt.plot(err)"
      ],
      "metadata": {
        "id": "EI-DxIJva7QA",
        "outputId": "843a9102-2121-403e-f67d-f9ae458c4b93",
        "colab": {
          "base_uri": "https://localhost:8080/",
          "height": 282
        }
      },
      "execution_count": 173,
      "outputs": [
        {
          "output_type": "execute_result",
          "data": {
            "text/plain": [
              "[<matplotlib.lines.Line2D at 0x7f601eb70f10>]"
            ]
          },
          "metadata": {},
          "execution_count": 173
        },
        {
          "output_type": "display_data",
          "data": {
            "image/png": "[encoded data removed]",
            "text/plain": [
              "<Figure size 432x288 with 1 Axes>"
            ]
          },
          "metadata": {
            "needs_background": "light"
          }
        }
      ]
    },
    {
      "cell_type": "code",
      "source": [
        "n.forecast([0.05469342949670699,\n",
        " 0.053486836235064276,\n",
        " 0.0538722356867796,\n",
        " 0.053652703960915586,\n",
        " 0.05445438866437667])"
      ],
      "metadata": {
        "id": "7Ab53U2en7xS",
        "outputId": "973a4244-01be-49cc-9ce3-5aa18d7f3895",
        "colab": {
          "base_uri": "https://localhost:8080/"
        }
      },
      "execution_count": 156,
      "outputs": [
        {
          "output_type": "execute_result",
          "data": {
            "text/plain": [
              "array([0.05924872])"
            ]
          },
          "metadata": {},
          "execution_count": 156
        }
      ]
    },
    {
      "cell_type": "code",
      "execution_count": 105,
      "metadata": {
        "id": "7FKkX14hZJa7"
      },
      "outputs": [],
      "source": [
        "s = [1,2,3,4,5,6,7]"
      ]
    },
    {
      "cell_type": "code",
      "source": [
        "s[-2::-1]"
      ],
      "metadata": {
        "id": "Bcjd7gdUS-un",
        "outputId": "f73f359f-e1ad-47b9-b9f9-13081eab779f",
        "colab": {
          "base_uri": "https://localhost:8080/"
        }
      },
      "execution_count": 106,
      "outputs": [
        {
          "output_type": "execute_result",
          "data": {
            "text/plain": [
              "[6, 5, 4, 3, 2, 1]"
            ]
          },
          "metadata": {},
          "execution_count": 106
        }
      ]
    },
    {
      "cell_type": "code",
      "source": [
        ""
      ],
      "metadata": {
        "id": "vQRBDNGyS_8m"
      },
      "execution_count": null,
      "outputs": []
    }
  ],
  "metadata": {
    "interpreter": {
      "hash": "17942c2f4da392589886bbd95824aef0ac6fff4543d68ee984ee7301d1f1cd38"
    },
    "kernelspec": {
      "display_name": "Python 3.8.6 64-bit (system)",
      "language": "python",
      "name": "python3"
    },
    "language_info": {
      "codemirror_mode": {
        "name": "ipython",
        "version": 3
      },
      "file_extension": ".py",
      "mimetype": "text/x-python",
      "name": "python",
      "nbconvert_exporter": "python",
      "pygments_lexer": "ipython3",
      "version": "3.8.6"
    },
    "orig_nbformat": 4,
    "colab": {
      "name": "ann.ipynb",
      "provenance": [],
      "include_colab_link": true
    }
  },
  "nbformat": 4,
  "nbformat_minor": 0
}