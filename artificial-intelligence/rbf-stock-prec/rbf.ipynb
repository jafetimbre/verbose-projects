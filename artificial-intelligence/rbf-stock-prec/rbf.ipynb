{
  "cells": [
    {
      "cell_type": "markdown",
      "metadata": {
        "id": "view-in-github",
        "colab_type": "text"
      },
      "source": [
        "<a href=\"https://colab.research.google.com/github/jafetimbre/verbose-projects/blob/master/artificial-intelligence/rbf-stock-prec/rbf.ipynb\" target=\"_parent\"><img src=\"https://colab.research.google.com/assets/colab-badge.svg\" alt=\"Open In Colab\"/></a>"
      ]
    },
    {
      "cell_type": "code",
      "execution_count": 1,
      "metadata": {
        "id": "ESGjyCcEiEDI"
      },
      "outputs": [],
      "source": [
        "import numpy as np\n",
        "import pandas as pd\n",
        "import matplotlib.pyplot as plt\n",
        "import itertools"
      ]
    },
    {
      "cell_type": "code",
      "execution_count": 2,
      "metadata": {
        "id": "mmfJvDuxiEDM",
        "outputId": "8f6e0a41-0d49-46f0-8a25-73992bbe1415",
        "colab": {
          "base_uri": "https://localhost:8080/",
          "height": 206
        }
      },
      "outputs": [
        {
          "output_type": "execute_result",
          "data": {
            "text/html": [
              "\n",
              "  <div id=\"df-3e0d9b43-cddc-4f71-8722-5956f7693ead\">\n",
              "    <div class=\"colab-df-container\">\n",
              "      <div>\n",
              "<style scoped>\n",
              "    .dataframe tbody tr th:only-of-type {\n",
              "        vertical-align: middle;\n",
              "    }\n",
              "\n",
              "    .dataframe tbody tr th {\n",
              "        vertical-align: top;\n",
              "    }\n",
              "\n",
              "    .dataframe thead th {\n",
              "        text-align: right;\n",
              "    }\n",
              "</style>\n",
              "<table border=\"1\" class=\"dataframe\">\n",
              "  <thead>\n",
              "    <tr style=\"text-align: right;\">\n",
              "      <th></th>\n",
              "      <th>Date</th>\n",
              "      <th>Close</th>\n",
              "    </tr>\n",
              "  </thead>\n",
              "  <tbody>\n",
              "    <tr>\n",
              "      <th>0</th>\n",
              "      <td>2019-11-25</td>\n",
              "      <td>67.267998</td>\n",
              "    </tr>\n",
              "    <tr>\n",
              "      <th>1</th>\n",
              "      <td>2019-11-26</td>\n",
              "      <td>65.783997</td>\n",
              "    </tr>\n",
              "    <tr>\n",
              "      <th>2</th>\n",
              "      <td>2019-11-27</td>\n",
              "      <td>66.258003</td>\n",
              "    </tr>\n",
              "    <tr>\n",
              "      <th>3</th>\n",
              "      <td>2019-11-29</td>\n",
              "      <td>65.987999</td>\n",
              "    </tr>\n",
              "    <tr>\n",
              "      <th>4</th>\n",
              "      <td>2019-12-02</td>\n",
              "      <td>66.973999</td>\n",
              "    </tr>\n",
              "  </tbody>\n",
              "</table>\n",
              "</div>\n",
              "      <button class=\"colab-df-convert\" onclick=\"convertToInteractive('df-3e0d9b43-cddc-4f71-8722-5956f7693ead')\"\n",
              "              title=\"Convert this dataframe to an interactive table.\"\n",
              "              style=\"display:none;\">\n",
              "        \n",
              "  <svg xmlns=\"http://www.w3.org/2000/svg\" height=\"24px\"viewBox=\"0 0 24 24\"\n",
              "       width=\"24px\">\n",
              "    <path d=\"M0 0h24v24H0V0z\" fill=\"none\"/>\n",
              "    <path d=\"M18.56 5.44l.94 2.06.94-2.06 2.06-.94-2.06-.94-.94-2.06-.94 2.06-2.06.94zm-11 1L8.5 8.5l.94-2.06 2.06-.94-2.06-.94L8.5 2.5l-.94 2.06-2.06.94zm10 10l.94 2.06.94-2.06 2.06-.94-2.06-.94-.94-2.06-.94 2.06-2.06.94z\"/><path d=\"M17.41 7.96l-1.37-1.37c-.4-.4-.92-.59-1.43-.59-.52 0-1.04.2-1.43.59L10.3 9.45l-7.72 7.72c-.78.78-.78 2.05 0 2.83L4 21.41c.39.39.9.59 1.41.59.51 0 1.02-.2 1.41-.59l7.78-7.78 2.81-2.81c.8-.78.8-2.07 0-2.86zM5.41 20L4 18.59l7.72-7.72 1.47 1.35L5.41 20z\"/>\n",
              "  </svg>\n",
              "      </button>\n",
              "      \n",
              "  <style>\n",
              "    .colab-df-container {\n",
              "      display:flex;\n",
              "      flex-wrap:wrap;\n",
              "      gap: 12px;\n",
              "    }\n",
              "\n",
              "    .colab-df-convert {\n",
              "      background-color: #E8F0FE;\n",
              "      border: none;\n",
              "      border-radius: 50%;\n",
              "      cursor: pointer;\n",
              "      display: none;\n",
              "      fill: #1967D2;\n",
              "      height: 32px;\n",
              "      padding: 0 0 0 0;\n",
              "      width: 32px;\n",
              "    }\n",
              "\n",
              "    .colab-df-convert:hover {\n",
              "      background-color: #E2EBFA;\n",
              "      box-shadow: 0px 1px 2px rgba(60, 64, 67, 0.3), 0px 1px 3px 1px rgba(60, 64, 67, 0.15);\n",
              "      fill: #174EA6;\n",
              "    }\n",
              "\n",
              "    [theme=dark] .colab-df-convert {\n",
              "      background-color: #3B4455;\n",
              "      fill: #D2E3FC;\n",
              "    }\n",
              "\n",
              "    [theme=dark] .colab-df-convert:hover {\n",
              "      background-color: #434B5C;\n",
              "      box-shadow: 0px 1px 3px 1px rgba(0, 0, 0, 0.15);\n",
              "      filter: drop-shadow(0px 1px 2px rgba(0, 0, 0, 0.3));\n",
              "      fill: #FFFFFF;\n",
              "    }\n",
              "  </style>\n",
              "\n",
              "      <script>\n",
              "        const buttonEl =\n",
              "          document.querySelector('#df-3e0d9b43-cddc-4f71-8722-5956f7693ead button.colab-df-convert');\n",
              "        buttonEl.style.display =\n",
              "          google.colab.kernel.accessAllowed ? 'block' : 'none';\n",
              "\n",
              "        async function convertToInteractive(key) {\n",
              "          const element = document.querySelector('#df-3e0d9b43-cddc-4f71-8722-5956f7693ead');\n",
              "          const dataTable =\n",
              "            await google.colab.kernel.invokeFunction('convertToInteractive',\n",
              "                                                     [key], {});\n",
              "          if (!dataTable) return;\n",
              "\n",
              "          const docLinkHtml = 'Like what you see? Visit the ' +\n",
              "            '<a target=\"_blank\" href=https://colab.research.google.com/notebooks/data_table.ipynb>data table notebook</a>'\n",
              "            + ' to learn more about interactive tables.';\n",
              "          element.innerHTML = '';\n",
              "          dataTable['output_type'] = 'display_data';\n",
              "          await google.colab.output.renderOutput(dataTable, element);\n",
              "          const docLink = document.createElement('div');\n",
              "          docLink.innerHTML = docLinkHtml;\n",
              "          element.appendChild(docLink);\n",
              "        }\n",
              "      </script>\n",
              "    </div>\n",
              "  </div>\n",
              "  "
            ],
            "text/plain": [
              "         Date      Close\n",
              "0  2019-11-25  67.267998\n",
              "1  2019-11-26  65.783997\n",
              "2  2019-11-27  66.258003\n",
              "3  2019-11-29  65.987999\n",
              "4  2019-12-02  66.973999"
            ]
          },
          "metadata": {},
          "execution_count": 2
        }
      ],
      "source": [
        "cols = [ \"Date\", \"Close\" ]\n",
        "tsla_data = pd.read_csv(\"https://raw.githubusercontent.com/jafetimbre/verbose-projects/master/statistics/stock-price-pred/res/tsla_2yr_data.csv\", usecols=cols)\n",
        "tsla_data = tsla_data[:450]\n",
        "tsla_data.head()"
      ]
    },
    {
      "cell_type": "code",
      "source": [
        "tsla_data.describe()"
      ],
      "metadata": {
        "id": "8ybNgP5liQ-s",
        "outputId": "d376c435-8529-4286-eb87-05fd0415d57f",
        "colab": {
          "base_uri": "https://localhost:8080/",
          "height": 300
        }
      },
      "execution_count": 3,
      "outputs": [
        {
          "output_type": "execute_result",
          "data": {
            "text/html": [
              "\n",
              "  <div id=\"df-dee16766-27e4-4f8b-b2b5-86388fd514c6\">\n",
              "    <div class=\"colab-df-container\">\n",
              "      <div>\n",
              "<style scoped>\n",
              "    .dataframe tbody tr th:only-of-type {\n",
              "        vertical-align: middle;\n",
              "    }\n",
              "\n",
              "    .dataframe tbody tr th {\n",
              "        vertical-align: top;\n",
              "    }\n",
              "\n",
              "    .dataframe thead th {\n",
              "        text-align: right;\n",
              "    }\n",
              "</style>\n",
              "<table border=\"1\" class=\"dataframe\">\n",
              "  <thead>\n",
              "    <tr style=\"text-align: right;\">\n",
              "      <th></th>\n",
              "      <th>Close</th>\n",
              "    </tr>\n",
              "  </thead>\n",
              "  <tbody>\n",
              "    <tr>\n",
              "      <th>count</th>\n",
              "      <td>450.000000</td>\n",
              "    </tr>\n",
              "    <tr>\n",
              "      <th>mean</th>\n",
              "      <td>433.907786</td>\n",
              "    </tr>\n",
              "    <tr>\n",
              "      <th>std</th>\n",
              "      <td>252.867234</td>\n",
              "    </tr>\n",
              "    <tr>\n",
              "      <th>min</th>\n",
              "      <td>65.783997</td>\n",
              "    </tr>\n",
              "    <tr>\n",
              "      <th>25%</th>\n",
              "      <td>161.976002</td>\n",
              "    </tr>\n",
              "    <tr>\n",
              "      <th>50%</th>\n",
              "      <td>425.855011</td>\n",
              "    </tr>\n",
              "    <tr>\n",
              "      <th>75%</th>\n",
              "      <td>667.444992</td>\n",
              "    </tr>\n",
              "    <tr>\n",
              "      <th>max</th>\n",
              "      <td>883.090027</td>\n",
              "    </tr>\n",
              "  </tbody>\n",
              "</table>\n",
              "</div>\n",
              "      <button class=\"colab-df-convert\" onclick=\"convertToInteractive('df-dee16766-27e4-4f8b-b2b5-86388fd514c6')\"\n",
              "              title=\"Convert this dataframe to an interactive table.\"\n",
              "              style=\"display:none;\">\n",
              "        \n",
              "  <svg xmlns=\"http://www.w3.org/2000/svg\" height=\"24px\"viewBox=\"0 0 24 24\"\n",
              "       width=\"24px\">\n",
              "    <path d=\"M0 0h24v24H0V0z\" fill=\"none\"/>\n",
              "    <path d=\"M18.56 5.44l.94 2.06.94-2.06 2.06-.94-2.06-.94-.94-2.06-.94 2.06-2.06.94zm-11 1L8.5 8.5l.94-2.06 2.06-.94-2.06-.94L8.5 2.5l-.94 2.06-2.06.94zm10 10l.94 2.06.94-2.06 2.06-.94-2.06-.94-.94-2.06-.94 2.06-2.06.94z\"/><path d=\"M17.41 7.96l-1.37-1.37c-.4-.4-.92-.59-1.43-.59-.52 0-1.04.2-1.43.59L10.3 9.45l-7.72 7.72c-.78.78-.78 2.05 0 2.83L4 21.41c.39.39.9.59 1.41.59.51 0 1.02-.2 1.41-.59l7.78-7.78 2.81-2.81c.8-.78.8-2.07 0-2.86zM5.41 20L4 18.59l7.72-7.72 1.47 1.35L5.41 20z\"/>\n",
              "  </svg>\n",
              "      </button>\n",
              "      \n",
              "  <style>\n",
              "    .colab-df-container {\n",
              "      display:flex;\n",
              "      flex-wrap:wrap;\n",
              "      gap: 12px;\n",
              "    }\n",
              "\n",
              "    .colab-df-convert {\n",
              "      background-color: #E8F0FE;\n",
              "      border: none;\n",
              "      border-radius: 50%;\n",
              "      cursor: pointer;\n",
              "      display: none;\n",
              "      fill: #1967D2;\n",
              "      height: 32px;\n",
              "      padding: 0 0 0 0;\n",
              "      width: 32px;\n",
              "    }\n",
              "\n",
              "    .colab-df-convert:hover {\n",
              "      background-color: #E2EBFA;\n",
              "      box-shadow: 0px 1px 2px rgba(60, 64, 67, 0.3), 0px 1px 3px 1px rgba(60, 64, 67, 0.15);\n",
              "      fill: #174EA6;\n",
              "    }\n",
              "\n",
              "    [theme=dark] .colab-df-convert {\n",
              "      background-color: #3B4455;\n",
              "      fill: #D2E3FC;\n",
              "    }\n",
              "\n",
              "    [theme=dark] .colab-df-convert:hover {\n",
              "      background-color: #434B5C;\n",
              "      box-shadow: 0px 1px 3px 1px rgba(0, 0, 0, 0.15);\n",
              "      filter: drop-shadow(0px 1px 2px rgba(0, 0, 0, 0.3));\n",
              "      fill: #FFFFFF;\n",
              "    }\n",
              "  </style>\n",
              "\n",
              "      <script>\n",
              "        const buttonEl =\n",
              "          document.querySelector('#df-dee16766-27e4-4f8b-b2b5-86388fd514c6 button.colab-df-convert');\n",
              "        buttonEl.style.display =\n",
              "          google.colab.kernel.accessAllowed ? 'block' : 'none';\n",
              "\n",
              "        async function convertToInteractive(key) {\n",
              "          const element = document.querySelector('#df-dee16766-27e4-4f8b-b2b5-86388fd514c6');\n",
              "          const dataTable =\n",
              "            await google.colab.kernel.invokeFunction('convertToInteractive',\n",
              "                                                     [key], {});\n",
              "          if (!dataTable) return;\n",
              "\n",
              "          const docLinkHtml = 'Like what you see? Visit the ' +\n",
              "            '<a target=\"_blank\" href=https://colab.research.google.com/notebooks/data_table.ipynb>data table notebook</a>'\n",
              "            + ' to learn more about interactive tables.';\n",
              "          element.innerHTML = '';\n",
              "          dataTable['output_type'] = 'display_data';\n",
              "          await google.colab.output.renderOutput(dataTable, element);\n",
              "          const docLink = document.createElement('div');\n",
              "          docLink.innerHTML = docLinkHtml;\n",
              "          element.appendChild(docLink);\n",
              "        }\n",
              "      </script>\n",
              "    </div>\n",
              "  </div>\n",
              "  "
            ],
            "text/plain": [
              "            Close\n",
              "count  450.000000\n",
              "mean   433.907786\n",
              "std    252.867234\n",
              "min     65.783997\n",
              "25%    161.976002\n",
              "50%    425.855011\n",
              "75%    667.444992\n",
              "max    883.090027"
            ]
          },
          "metadata": {},
          "execution_count": 3
        }
      ]
    },
    {
      "cell_type": "code",
      "source": [
        "plt.figure(figsize=(20,10))\n",
        "plt.title('Tesla stock Close value', size=16)\n",
        "plt.plot(tsla_data.Close, linewidth=2)\n",
        "plt.show()"
      ],
      "metadata": {
        "id": "TJ4IkDIjiSUI",
        "outputId": "71ad2c62-8e64-47ec-dfea-cba029ef889a",
        "colab": {
          "base_uri": "https://localhost:8080/",
          "height": 609
        }
      },
      "execution_count": 4,
      "outputs": [
        {
          "output_type": "display_data",
          "data": {
            "image/png": "[encoded data removed]",
            "text/plain": [
              "<Figure size 1440x720 with 1 Axes>"
            ]
          },
          "metadata": {
            "needs_background": "light"
          }
        }
      ]
    },
    {
      "cell_type": "code",
      "source": [
        "max = tsla_data.Close.max()\n",
        "data = pd.DataFrame({'val': tsla_data.Close / max})\n",
        "data.describe()"
      ],
      "metadata": {
        "id": "lyAEKa7kiT7s",
        "outputId": "dbdaaca2-319c-491b-a450-eaf74efbbb66",
        "colab": {
          "base_uri": "https://localhost:8080/",
          "height": 300
        }
      },
      "execution_count": 25,
      "outputs": [
        {
          "output_type": "execute_result",
          "data": {
            "text/html": [
              "\n",
              "  <div id=\"df-fc04f12e-e7dd-4f08-819e-8010fcc4360e\">\n",
              "    <div class=\"colab-df-container\">\n",
              "      <div>\n",
              "<style scoped>\n",
              "    .dataframe tbody tr th:only-of-type {\n",
              "        vertical-align: middle;\n",
              "    }\n",
              "\n",
              "    .dataframe tbody tr th {\n",
              "        vertical-align: top;\n",
              "    }\n",
              "\n",
              "    .dataframe thead th {\n",
              "        text-align: right;\n",
              "    }\n",
              "</style>\n",
              "<table border=\"1\" class=\"dataframe\">\n",
              "  <thead>\n",
              "    <tr style=\"text-align: right;\">\n",
              "      <th></th>\n",
              "      <th>val</th>\n",
              "    </tr>\n",
              "  </thead>\n",
              "  <tbody>\n",
              "    <tr>\n",
              "      <th>count</th>\n",
              "      <td>450.000000</td>\n",
              "    </tr>\n",
              "    <tr>\n",
              "      <th>mean</th>\n",
              "      <td>0.491352</td>\n",
              "    </tr>\n",
              "    <tr>\n",
              "      <th>std</th>\n",
              "      <td>0.286344</td>\n",
              "    </tr>\n",
              "    <tr>\n",
              "      <th>min</th>\n",
              "      <td>0.074493</td>\n",
              "    </tr>\n",
              "    <tr>\n",
              "      <th>25%</th>\n",
              "      <td>0.183420</td>\n",
              "    </tr>\n",
              "    <tr>\n",
              "      <th>50%</th>\n",
              "      <td>0.482233</td>\n",
              "    </tr>\n",
              "    <tr>\n",
              "      <th>75%</th>\n",
              "      <td>0.755806</td>\n",
              "    </tr>\n",
              "    <tr>\n",
              "      <th>max</th>\n",
              "      <td>1.000000</td>\n",
              "    </tr>\n",
              "  </tbody>\n",
              "</table>\n",
              "</div>\n",
              "      <button class=\"colab-df-convert\" onclick=\"convertToInteractive('df-fc04f12e-e7dd-4f08-819e-8010fcc4360e')\"\n",
              "              title=\"Convert this dataframe to an interactive table.\"\n",
              "              style=\"display:none;\">\n",
              "        \n",
              "  <svg xmlns=\"http://www.w3.org/2000/svg\" height=\"24px\"viewBox=\"0 0 24 24\"\n",
              "       width=\"24px\">\n",
              "    <path d=\"M0 0h24v24H0V0z\" fill=\"none\"/>\n",
              "    <path d=\"M18.56 5.44l.94 2.06.94-2.06 2.06-.94-2.06-.94-.94-2.06-.94 2.06-2.06.94zm-11 1L8.5 8.5l.94-2.06 2.06-.94-2.06-.94L8.5 2.5l-.94 2.06-2.06.94zm10 10l.94 2.06.94-2.06 2.06-.94-2.06-.94-.94-2.06-.94 2.06-2.06.94z\"/><path d=\"M17.41 7.96l-1.37-1.37c-.4-.4-.92-.59-1.43-.59-.52 0-1.04.2-1.43.59L10.3 9.45l-7.72 7.72c-.78.78-.78 2.05 0 2.83L4 21.41c.39.39.9.59 1.41.59.51 0 1.02-.2 1.41-.59l7.78-7.78 2.81-2.81c.8-.78.8-2.07 0-2.86zM5.41 20L4 18.59l7.72-7.72 1.47 1.35L5.41 20z\"/>\n",
              "  </svg>\n",
              "      </button>\n",
              "      \n",
              "  <style>\n",
              "    .colab-df-container {\n",
              "      display:flex;\n",
              "      flex-wrap:wrap;\n",
              "      gap: 12px;\n",
              "    }\n",
              "\n",
              "    .colab-df-convert {\n",
              "      background-color: #E8F0FE;\n",
              "      border: none;\n",
              "      border-radius: 50%;\n",
              "      cursor: pointer;\n",
              "      display: none;\n",
              "      fill: #1967D2;\n",
              "      height: 32px;\n",
              "      padding: 0 0 0 0;\n",
              "      width: 32px;\n",
              "    }\n",
              "\n",
              "    .colab-df-convert:hover {\n",
              "      background-color: #E2EBFA;\n",
              "      box-shadow: 0px 1px 2px rgba(60, 64, 67, 0.3), 0px 1px 3px 1px rgba(60, 64, 67, 0.15);\n",
              "      fill: #174EA6;\n",
              "    }\n",
              "\n",
              "    [theme=dark] .colab-df-convert {\n",
              "      background-color: #3B4455;\n",
              "      fill: #D2E3FC;\n",
              "    }\n",
              "\n",
              "    [theme=dark] .colab-df-convert:hover {\n",
              "      background-color: #434B5C;\n",
              "      box-shadow: 0px 1px 3px 1px rgba(0, 0, 0, 0.15);\n",
              "      filter: drop-shadow(0px 1px 2px rgba(0, 0, 0, 0.3));\n",
              "      fill: #FFFFFF;\n",
              "    }\n",
              "  </style>\n",
              "\n",
              "      <script>\n",
              "        const buttonEl =\n",
              "          document.querySelector('#df-fc04f12e-e7dd-4f08-819e-8010fcc4360e button.colab-df-convert');\n",
              "        buttonEl.style.display =\n",
              "          google.colab.kernel.accessAllowed ? 'block' : 'none';\n",
              "\n",
              "        async function convertToInteractive(key) {\n",
              "          const element = document.querySelector('#df-fc04f12e-e7dd-4f08-819e-8010fcc4360e');\n",
              "          const dataTable =\n",
              "            await google.colab.kernel.invokeFunction('convertToInteractive',\n",
              "                                                     [key], {});\n",
              "          if (!dataTable) return;\n",
              "\n",
              "          const docLinkHtml = 'Like what you see? Visit the ' +\n",
              "            '<a target=\"_blank\" href=https://colab.research.google.com/notebooks/data_table.ipynb>data table notebook</a>'\n",
              "            + ' to learn more about interactive tables.';\n",
              "          element.innerHTML = '';\n",
              "          dataTable['output_type'] = 'display_data';\n",
              "          await google.colab.output.renderOutput(dataTable, element);\n",
              "          const docLink = document.createElement('div');\n",
              "          docLink.innerHTML = docLinkHtml;\n",
              "          element.appendChild(docLink);\n",
              "        }\n",
              "      </script>\n",
              "    </div>\n",
              "  </div>\n",
              "  "
            ],
            "text/plain": [
              "              val\n",
              "count  450.000000\n",
              "mean     0.491352\n",
              "std      0.286344\n",
              "min      0.074493\n",
              "25%      0.183420\n",
              "50%      0.482233\n",
              "75%      0.755806\n",
              "max      1.000000"
            ]
          },
          "metadata": {},
          "execution_count": 25
        }
      ]
    },
    {
      "cell_type": "code",
      "source": [
        "def segment_data(data, train_ratio):\n",
        "    separation_point = int(np.floor(len(data) * train_ratio))\n",
        "    return (data[:separation_point], data[separation_point:], separation_point)\n",
        "\n",
        "(train_data, test_data, seg) = segment_data(list(data.val), .8)\n",
        "\n",
        "len(train_data)"
      ],
      "metadata": {
        "colab": {
          "base_uri": "https://localhost:8080/"
        },
        "id": "EGZZ-R3tE0vD",
        "outputId": "c4d5fd65-6674-4bfd-ceaa-a96e5cf0d1b9"
      },
      "execution_count": 68,
      "outputs": [
        {
          "output_type": "execute_result",
          "data": {
            "text/plain": [
              "360"
            ]
          },
          "metadata": {},
          "execution_count": 68
        }
      ]
    },
    {
      "cell_type": "code",
      "source": [
        "np.array(train_data)"
      ],
      "metadata": {
        "colab": {
          "base_uri": "https://localhost:8080/"
        },
        "id": "nOAaSMOMLaTY",
        "outputId": "bab4d9a8-6a91-4f67-a01a-0cc9320ef034"
      },
      "execution_count": 69,
      "outputs": [
        {
          "output_type": "execute_result",
          "data": {
            "text/plain": [
              "array([0.07617343, 0.07449297, 0.07502973, 0.07472398, 0.07584051,\n",
              "       0.07614172, 0.0754238 , 0.07482136, 0.07607152, 0.0768959 ,\n",
              "       0.0790044 , 0.07987861, 0.08145942, 0.08116726, 0.08640116,\n",
              "       0.08583269, 0.08903962, 0.09150596, 0.091857  , 0.09494389,\n",
              "       0.09630955, 0.09759821, 0.09747137, 0.09392021, 0.09474232,\n",
              "       0.0974442 , 0.10033178, 0.10226364, 0.10623152, 0.11145863,\n",
              "       0.10901267, 0.1082902 , 0.11886897, 0.12182676, 0.11742857,\n",
              "       0.11629392, 0.11561675, 0.12392848, 0.12899251, 0.12959041,\n",
              "       0.127919  , 0.12637896, 0.12839008, 0.13158115, 0.14512903,\n",
              "       0.14733945, 0.17665243, 0.20089911, 0.166393  , 0.16962258,\n",
              "       0.169421  , 0.17467754, 0.17537964, 0.17377389, 0.18208789,\n",
              "       0.18118877, 0.19440826, 0.20777496, 0.20369611, 0.2040562 ,\n",
              "       0.18883465, 0.18116159, 0.17638065, 0.15377821, 0.1512847 ,\n",
              "       0.16841318, 0.16884123, 0.16974486, 0.164092  , 0.15932237,\n",
              "       0.1376983 , 0.1461527 , 0.14363881, 0.12695195, 0.12379711,\n",
              "       0.10079833, 0.09743061, 0.0818082 , 0.09685083, 0.09682591,\n",
              "       0.0983569 , 0.11437113, 0.12212798, 0.11961635, 0.11649096,\n",
              "       0.11372114, 0.1186742 , 0.10906249, 0.10292722, 0.10871145,\n",
              "       0.11691673, 0.12353213, 0.1242999 , 0.12977159, 0.14742552,\n",
              "       0.16077409, 0.16529006, 0.16877329, 0.1707391 , 0.16903373,\n",
              "       0.15552661, 0.16580642, 0.15980931, 0.16423014, 0.18089888,\n",
              "       0.17418836, 0.18129749, 0.17707822, 0.15883319, 0.1723924 ,\n",
              "       0.17398226, 0.17723675, 0.17666149, 0.18558018, 0.18373891,\n",
              "       0.18331314, 0.17913463, 0.18193615, 0.180994  , 0.18426887,\n",
              "       0.18299607, 0.18470597, 0.18743276, 0.18500493, 0.18545561,\n",
              "       0.18576363, 0.18249782, 0.18910869, 0.20339942, 0.19965348,\n",
              "       0.19997055, 0.19576261, 0.20058205, 0.21513548, 0.21304057,\n",
              "       0.23215073, 0.22032634, 0.21181985, 0.22441652, 0.22243032,\n",
              "       0.2246181 , 0.22737433, 0.2266813 , 0.22519108, 0.22688061,\n",
              "       0.21761088, 0.22330226, 0.21735949, 0.22859503, 0.24455265,\n",
              "       0.25357097, 0.27373426, 0.31063199, 0.31477197, 0.30934105,\n",
              "       0.315773  , 0.34982842, 0.33905036, 0.34352102, 0.35013644,\n",
              "       0.33986115, 0.33990645, 0.3721025 , 0.35519821, 0.36062688,\n",
              "       0.34267629, 0.32091858, 0.34868474, 0.33439173, 0.33951464,\n",
              "       0.33688296, 0.32403492, 0.33631905, 0.336772  , 0.33632358,\n",
              "       0.3373563 , 0.32900608, 0.32127414, 0.31126837, 0.35211812,\n",
              "       0.36712   , 0.37384863, 0.4157311 , 0.42738338, 0.42544473,\n",
              "       0.4533694 , 0.4642743 , 0.45617093, 0.45824093, 0.48764451,\n",
              "       0.50702645, 0.50128524, 0.56429129, 0.53794061, 0.50659614,\n",
              "       0.46088166, 0.4737003 , 0.37392563, 0.41477085, 0.42050072,\n",
              "       0.42206342, 0.47517239, 0.50930256, 0.50024346, 0.47948678,\n",
              "       0.50068507, 0.50888358, 0.48039271, 0.43071485, 0.43912851,\n",
              "       0.46126667, 0.47696158, 0.47454959, 0.48580552, 0.50749073,\n",
              "       0.47004267, 0.48203465, 0.46878574, 0.48160434, 0.48230645,\n",
              "       0.49145612, 0.50085492, 0.50578082, 0.52237028, 0.50830605,\n",
              "       0.49787677, 0.48786644, 0.47779953, 0.47859222, 0.48215923,\n",
              "       0.47631611, 0.47591977, 0.48090226, 0.45977191, 0.46521869,\n",
              "       0.43941161, 0.45353248, 0.480019  , 0.47671245, 0.49608758,\n",
              "       0.48686997, 0.47702952, 0.46468647, 0.47235275, 0.46627184,\n",
              "       0.46258024, 0.46211596, 0.50007357, 0.55106501, 0.56536703,\n",
              "       0.55442817, 0.59093633, 0.62890531, 0.64999035, 0.66330724,\n",
              "       0.64274305, 0.66217485, 0.6441246 , 0.67193603, 0.67834531,\n",
              "       0.72672093, 0.73591591, 0.6845055 , 0.71008616, 0.69074497,\n",
              "       0.72453544, 0.71708431, 0.70521691, 0.74273291, 0.78700923,\n",
              "       0.73589324, 0.72511296, 0.73149958, 0.74938002, 0.75155418,\n",
              "       0.75415866, 0.78676014, 0.79909178, 0.82638236, 0.83242927,\n",
              "       0.85606219, 0.92407337, 0.99652356, 0.91858132, 0.96189514,\n",
              "       0.96752307, 0.95686733, 0.93553313, 0.95635775, 0.96303886,\n",
              "       0.956856  , 0.95872447, 0.99740679, 1.        , 0.97856385,\n",
              "       0.94603038, 0.89858339, 0.95099024, 0.98833635, 0.96784017,\n",
              "       0.96251794, 0.96505447, 0.97772589, 0.96191781, 0.91136802,\n",
              "       0.91911351, 0.92416398, 0.90162944, 0.90381501, 0.89161918,\n",
              "       0.88473424, 0.80909078, 0.79135763, 0.8402541 , 0.77253728,\n",
              "       0.76492767, 0.81354106, 0.77731599, 0.73967545, 0.70371081,\n",
              "       0.67711105, 0.63753409, 0.76275351, 0.75650271, 0.79221818,\n",
              "       0.78557107, 0.80166232, 0.76649037, 0.79472078, 0.73963011,\n",
              "       0.74156652, 0.75869954, 0.7498216 , 0.71370981, 0.72516957,\n",
              "       0.70061942, 0.69221706, 0.71976806, 0.75635549, 0.74935735,\n",
              "       0.78253628, 0.78318175, 0.75979793, 0.77432648, 0.76664892,\n",
              "       0.79491327, 0.86324155, 0.82916799, 0.83666439, 0.83771757,\n",
              "       0.809238  , 0.81417519, 0.84263209, 0.81496787, 0.82596338,\n",
              "       0.83592838, 0.79803867, 0.78632982, 0.76662625, 0.8033609 ])"
            ]
          },
          "metadata": {},
          "execution_count": 69
        }
      ]
    },
    {
      "cell_type": "code",
      "source": [
        "train_data = np.array([ 0.1, 0.2, 0.3, 0.4, 0.5, 0.6, 0.7, 0.8, 0.9 ])\n",
        "train_data"
      ],
      "metadata": {
        "colab": {
          "base_uri": "https://localhost:8080/"
        },
        "id": "s-I4QBUPHENC",
        "outputId": "c5b5ebf4-70c7-4c7f-c85a-15278189b2dc"
      },
      "execution_count": 65,
      "outputs": [
        {
          "output_type": "execute_result",
          "data": {
            "text/plain": [
              "array([0.1, 0.2, 0.3, 0.4, 0.5, 0.6, 0.7, 0.8, 0.9])"
            ]
          },
          "metadata": {},
          "execution_count": 65
        }
      ]
    },
    {
      "cell_type": "code",
      "source": [
        "class RBF():\n",
        "    def __init__(self, train_data, pred_win=1, learn_rate=.2):\n",
        "        self.train_data = train_data\n",
        "        self.pred_win = pred_win\n",
        "        self.hidden_dim = len(train_data)-pred_win\n",
        "\n",
        "        self.learning_rate = learn_rate\n",
        "\n",
        "        self.G = np.zeros(self.hidden_dim)\n",
        "        self.W = 2 * np.random.random(self.hidden_dim) - 1\n",
        "        self.Xi = [ train_data[i:i+self.pred_win] for i in range(0, self.hidden_dim) ]\n",
        "\n",
        "\n",
        "    def g(self, x, xi):\n",
        "        return np.exp(-np.power(np.linalg.norm(x-xi), 2))\n",
        "\n",
        "\n",
        "    def compute(self, x):\n",
        "        if len(x) != self.pred_win:\n",
        "            raise Exception(\"Input vector dim invalid\")\n",
        "        self.G = np.array([ self.g(x, np.array(self.Xi[i])) for i in range(self.hidden_dim) ])\n",
        "        return np.sum(np.multiply(self.G, self.W))\n",
        "\n",
        "\n",
        "    def update(self, error):\n",
        "        for i in range(self.hidden_dim):\n",
        "            deltaW = self.learning_rate * self.G[i] * error\n",
        "            self.W[i] += deltaW\n",
        "\n",
        "\n",
        "    def fit(self, iters=100):\n",
        "        for i in range(iters):\n",
        "            for j in range(len(self.Xi)):  \n",
        "\n",
        "                x = self.Xi[j]\n",
        "                z = self.train_data[len(x)+j]\n",
        "\n",
        "                Y = self.compute(np.array(x))\n",
        "                err = Y -z\n",
        "                self.update(err)"
      ],
      "metadata": {
        "id": "73QIO8dvkY56"
      },
      "execution_count": 92,
      "outputs": []
    },
    {
      "cell_type": "code",
      "source": [
        "rbf = RBF(train_data, pred_win=1)\n",
        "\n",
        "rbf.fit(1)"
      ],
      "metadata": {
        "id": "Czy-kD_9lnLq",
        "outputId": "675dc982-163e-4fa8-82b1-4e45af5168ab",
        "colab": {
          "base_uri": "https://localhost:8080/"
        }
      },
      "execution_count": 93,
      "outputs": [
        {
          "output_type": "stream",
          "name": "stderr",
          "text": [
            "/usr/local/lib/python3.7/dist-packages/numpy/core/fromnumeric.py:87: RuntimeWarning: overflow encountered in reduce\n",
            "  return ufunc.reduce(obj, axis, dtype, out, **passkwargs)\n"
          ]
        }
      ]
    },
    {
      "cell_type": "code",
      "source": [
        "train_data[80:83]"
      ],
      "metadata": {
        "colab": {
          "base_uri": "https://localhost:8080/"
        },
        "id": "C4RPqY4xF_UM",
        "outputId": "fd22e38d-a95e-498a-b844-8d84f1150655"
      },
      "execution_count": 12,
      "outputs": [
        {
          "output_type": "execute_result",
          "data": {
            "text/plain": [
              "[0.09835690480875516, 0.11437112517241711, 0.12212797698345244]"
            ]
          },
          "metadata": {},
          "execution_count": 12
        }
      ]
    },
    {
      "cell_type": "code",
      "source": [
        "rbf.compute(np.array([0.1]))"
      ],
      "metadata": {
        "colab": {
          "base_uri": "https://localhost:8080/"
        },
        "id": "JaZcqSBk_Whh",
        "outputId": "c5488065-07a2-4bc8-90cc-cc8d584b851e"
      },
      "execution_count": 32,
      "outputs": [
        {
          "output_type": "stream",
          "name": "stdout",
          "text": [
            "[0.99943246 0.9993496  0.99937668 0.99936133 0.99941649 0.99943094\n",
            " 0.99939619 0.99936624 0.99942759 0.99946634 0.99955928 0.99959521\n",
            " 0.99965631 0.99964539 0.99981509 0.99979931 0.99987988 0.99992785\n",
            " 0.99993369 0.99997444 0.99998638 0.99999423 0.99999361 0.99996304\n",
            " 0.99997236 0.99999347 0.99999989 0.99999488 0.99996117 0.99986871\n",
            " 0.99991878 0.99993127 0.99964403 0.99952371 0.99969629 0.99973454\n",
            " 0.99975615 0.99942759 0.99915979 0.99912479 0.99922083 0.99930439\n",
            " 0.99919433 0.99900313 0.99796544 0.99776149 0.99414163 0.98987102\n",
            " 0.99560167 0.99516443 0.99519232 0.99443879 0.99433402 0.9945722\n",
            " 0.99328423 0.99343006 0.99112668 0.98845176 0.98930472 0.98923072\n",
            " 0.99213946 0.99343444 0.99418298 0.99711208 0.99737334 0.99533057\n",
            " 0.9952721  0.99514747 0.99590064 0.99648704 0.99857985 0.9978722\n",
            " 0.99809747 0.99927386 0.99943386 0.99999936 0.9999934  0.99966911\n",
            " 0.99999008 0.99998993 0.9999973  0.99979349 0.99951047 0.99961527\n",
            " 0.99972809 0.99981175 0.99965134 0.99991787 0.99999143 0.99992411\n",
            " 0.99971387 0.99944639 0.99940969 0.99911405 0.99775335 0.99631332\n",
            " 0.99574628 0.9952814  0.99500848 0.99524568 0.99692154 0.99567888\n",
            " 0.99642924 0.99588299 0.99347674 0.99451121 0.99341251 0.99407656\n",
            " 0.99654464 0.99477305 0.99454158 0.99405224 0.99414025 0.99270279\n",
            " 0.99301232 0.99308295 0.99375728 0.99330895 0.99346144 0.99292391\n",
            " 0.99313532 0.99285058 0.99238466 0.99280021 0.99272394 0.99267159\n",
            " 0.99321722 0.99209108 0.98936551 0.99011833 0.99005567 0.99087144\n",
            " 0.98993425 0.9868313  0.98730312 0.98268779 0.98562588 0.98757417\n",
            " 0.98463972 0.9851226  0.98459029 0.98390668 0.98407993 0.98444937\n",
            " 0.9840302  0.98626291 0.98491154 0.98632117 0.9835993  0.97932133\n",
            " 0.97669189 0.97026738 0.95660394 0.95492068 0.95712271 0.95450921\n",
            " 0.93949363 0.94445704 0.94242166 0.93934896 0.94409039 0.94406986\n",
            " 0.92863476 0.93694928 0.93432926 0.94280879 0.95236681 0.94002943\n",
            " 0.94654243 0.94424722 0.94543179 0.95104714 0.9456841  0.94548148\n",
            " 0.94568208 0.94521958 0.94890766 0.95221708 0.95634713 0.93841449\n",
            " 0.93113306 0.92774991 0.90512146 0.89836406 0.89950176 0.88261169\n",
            " 0.87573148 0.88085898 0.8795573  0.86047711 0.84732536 0.85126667\n",
            " 0.80608475 0.82547857 0.84762207 0.8778886  0.8696609  0.92771079\n",
            " 0.90566963 0.90237896 0.9014733  0.86870271 0.84575244 0.85197778\n",
            " 0.8658789  0.85167649 0.84604242 0.86528304 0.89639662 0.89135888\n",
            " 0.87764455 0.86753447 0.86910842 0.86170189 0.84700499 0.87202989\n",
            " 0.8642005  0.87284008 0.86448453 0.86402099 0.8579256  0.85156055\n",
            " 0.84818367 0.83661051 0.8464418  0.85358861 0.86032903 0.86698597\n",
            " 0.8664663  0.86411823 0.86795638 0.8682152  0.86494744 0.87859097\n",
            " 0.87512837 0.89118768 0.88250995 0.86552896 0.86769738 0.85480204\n",
            " 0.86099346 0.86749003 0.8754684  0.87053565 0.87445446 0.87681046\n",
            " 0.87710552 0.85209363 0.81590313 0.805279   0.81342223 0.78582711\n",
            " 0.75597965 0.73897633 0.72810133 0.74485179 0.72902988 0.74373419\n",
            " 0.72100384 0.7157078  0.67517786 0.66738442 0.71059923 0.68921285\n",
            " 0.70540751 0.67702674 0.68331929 0.69330344 0.66159242 0.62376494\n",
            " 0.66740367 0.6765383  0.67113047 0.65593446 0.6540818  0.65186125\n",
            " 0.62397843 0.61340534 0.59000083 0.58481914 0.56460437 0.50707471\n",
            " 0.44764512 0.51167001 0.47574978 0.47114175 0.47987884 0.49752195\n",
            " 0.48029797 0.47481213 0.47988816 0.47835234 0.44693641 0.44485807\n",
            " 0.46214599 0.48881685 0.52848787 0.48471975 0.4542346  0.47088256\n",
            " 0.47523912 0.47316115 0.46282663 0.47573119 0.51772138 0.51122425\n",
            " 0.50699899 0.52591811 0.524076   0.53437314 0.54020432 0.60482886\n",
            " 0.62003747 0.57811866 0.63615922 0.64266685 0.60101172 0.63206885\n",
            " 0.66419156 0.69456693 0.71672922 0.74905497 0.64452465 0.64986164\n",
            " 0.61929967 0.62499746 0.61120063 0.6413311  0.61715383 0.66423008\n",
            " 0.66258423 0.64798671 0.65555826 0.68616323 0.67649042 0.69715767\n",
            " 0.70418016 0.68105484 0.64998725 0.65595377 0.62759779 0.62704479\n",
            " 0.64704897 0.63462805 0.64119556 0.61698877 0.55847933 0.58761344\n",
            " 0.58119182 0.58029005 0.60470258 0.60046784 0.57608364 0.59978797\n",
            " 0.59035996 0.58182208 0.61430853 0.62434722 0.64121494]\n"
          ]
        },
        {
          "output_type": "execute_result",
          "data": {
            "text/plain": [
              "nan"
            ]
          },
          "metadata": {},
          "execution_count": 32
        }
      ]
    },
    {
      "cell_type": "code",
      "source": [
        "W = 2 * np.random.random(HIDDEN_DIM) - 1\n",
        "G = [ 0 for i in range(HIDDEN_DIM) ]\n",
        "\n",
        "for step in range(100):\n",
        "    for i in range(0, HIDDEN_DIM):\n",
        "        x = data[i]\n",
        "        z = data[i+1]\n",
        "        for ig in range(len(G)):\n",
        "            G[ig] = g(np.array(x), np.array(data[ig]))\n",
        "        Y = np.sum(np.multiply(G, W))\n",
        "        err = z - Y\n",
        "        for iw in range(len(W)):\n",
        "            deltaW = LEARNING_RATE * G[iw] * err\n",
        "            W[iw] += deltaW"
      ],
      "metadata": {
        "id": "ecpMOpqAEe_R"
      },
      "execution_count": null,
      "outputs": []
    }
  ],
  "metadata": {
    "interpreter": {
      "hash": "122b684e0147009c315d6711cdbb4bc67c0b28d0ba10cdfcd148f2449410c391"
    },
    "kernelspec": {
      "display_name": "Python 3.8.6 64-bit",
      "language": "python",
      "name": "python3"
    },
    "language_info": {
      "codemirror_mode": {
        "name": "ipython",
        "version": 3
      },
      "file_extension": ".py",
      "mimetype": "text/x-python",
      "name": "python",
      "nbconvert_exporter": "python",
      "pygments_lexer": "ipython3",
      "version": "3.8.6"
    },
    "orig_nbformat": 4,
    "colab": {
      "name": "rbf.ipynb",
      "provenance": [],
      "include_colab_link": true
    }
  },
  "nbformat": 4,
  "nbformat_minor": 0
}