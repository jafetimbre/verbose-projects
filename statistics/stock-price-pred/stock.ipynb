{
  "nbformat": 4,
  "nbformat_minor": 0,
  "metadata": {
    "interpreter": {
      "hash": "122b684e0147009c315d6711cdbb4bc67c0b28d0ba10cdfcd148f2449410c391"
    },
    "kernelspec": {
      "display_name": "Python 3.8.6 64-bit",
      "language": "python",
      "name": "python3"
    },
    "language_info": {
      "codemirror_mode": {
        "name": "ipython",
        "version": 3
      },
      "file_extension": ".py",
      "mimetype": "text/x-python",
      "name": "python",
      "nbconvert_exporter": "python",
      "pygments_lexer": "ipython3",
      "version": "3.8.6"
    },
    "orig_nbformat": 4,
    "colab": {
      "name": "stock.ipynb",
      "provenance": [],
      "include_colab_link": true
    }
  },
  "cells": [
    {
      "cell_type": "markdown",
      "metadata": {
        "id": "view-in-github",
        "colab_type": "text"
      },
      "source": [
        "<a href=\"https://colab.research.google.com/github/jafetimbre/verbose-projects/blob/master/statistics/stock-price-pred/stock.ipynb\" target=\"_parent\"><img src=\"https://colab.research.google.com/assets/colab-badge.svg\" alt=\"Open In Colab\"/></a>"
      ]
    },
    {
      "cell_type": "code",
      "metadata": {
        "id": "EIkMTxArI9sN"
      },
      "source": [
        "!pip install -q yfinance"
      ],
      "execution_count": 1,
      "outputs": []
    },
    {
      "cell_type": "code",
      "metadata": {
        "id": "-2DImyEJJJXQ"
      },
      "source": [
        "import numpy as np\n",
        "import pandas as pd\n",
        "import matplotlib.pyplot as plt\n",
        "import seaborn as sns\n",
        "import itertools\n",
        "\n",
        "import yfinance as yf"
      ],
      "execution_count": 2,
      "outputs": []
    },
    {
      "cell_type": "code",
      "metadata": {
        "id": "zWGYZ-wvJQCP",
        "colab": {
          "base_uri": "https://localhost:8080/"
        },
        "outputId": "223e6b12-ac95-4132-d502-8356891bb4f7"
      },
      "source": [
        "data = yf.download(tickers='TSLA', period='24mo', interval='1d')"
      ],
      "execution_count": 3,
      "outputs": [
        {
          "output_type": "stream",
          "name": "stdout",
          "text": [
            "\r[*********************100%***********************]  1 of 1 completed\n"
          ]
        }
      ]
    },
    {
      "cell_type": "code",
      "metadata": {
        "id": "ZTeoYG8-I87V",
        "colab": {
          "base_uri": "https://localhost:8080/",
          "height": 235
        },
        "outputId": "d0ac8fd9-16e2-42a7-ca5d-f3ba52825e6b"
      },
      "source": [
        "data.head()"
      ],
      "execution_count": 4,
      "outputs": [
        {
          "output_type": "execute_result",
          "data": {
            "text/html": [
              "<div>\n",
              "<style scoped>\n",
              "    .dataframe tbody tr th:only-of-type {\n",
              "        vertical-align: middle;\n",
              "    }\n",
              "\n",
              "    .dataframe tbody tr th {\n",
              "        vertical-align: top;\n",
              "    }\n",
              "\n",
              "    .dataframe thead th {\n",
              "        text-align: right;\n",
              "    }\n",
              "</style>\n",
              "<table border=\"1\" class=\"dataframe\">\n",
              "  <thead>\n",
              "    <tr style=\"text-align: right;\">\n",
              "      <th></th>\n",
              "      <th>Open</th>\n",
              "      <th>High</th>\n",
              "      <th>Low</th>\n",
              "      <th>Close</th>\n",
              "      <th>Adj Close</th>\n",
              "      <th>Volume</th>\n",
              "    </tr>\n",
              "    <tr>\n",
              "      <th>Date</th>\n",
              "      <th></th>\n",
              "      <th></th>\n",
              "      <th></th>\n",
              "      <th></th>\n",
              "      <th></th>\n",
              "      <th></th>\n",
              "    </tr>\n",
              "  </thead>\n",
              "  <tbody>\n",
              "    <tr>\n",
              "      <th>2019-12-06</th>\n",
              "      <td>67.000000</td>\n",
              "      <td>67.772003</td>\n",
              "      <td>66.954002</td>\n",
              "      <td>67.178001</td>\n",
              "      <td>67.178001</td>\n",
              "      <td>38062000</td>\n",
              "    </tr>\n",
              "    <tr>\n",
              "      <th>2019-12-09</th>\n",
              "      <td>67.318001</td>\n",
              "      <td>68.889999</td>\n",
              "      <td>67.015999</td>\n",
              "      <td>67.905998</td>\n",
              "      <td>67.905998</td>\n",
              "      <td>45115500</td>\n",
              "    </tr>\n",
              "    <tr>\n",
              "      <th>2019-12-10</th>\n",
              "      <td>67.991997</td>\n",
              "      <td>70.146004</td>\n",
              "      <td>67.862000</td>\n",
              "      <td>69.767998</td>\n",
              "      <td>69.767998</td>\n",
              "      <td>44141500</td>\n",
              "    </tr>\n",
              "    <tr>\n",
              "      <th>2019-12-11</th>\n",
              "      <td>70.375999</td>\n",
              "      <td>71.438004</td>\n",
              "      <td>70.218002</td>\n",
              "      <td>70.540001</td>\n",
              "      <td>70.540001</td>\n",
              "      <td>34489000</td>\n",
              "    </tr>\n",
              "    <tr>\n",
              "      <th>2019-12-12</th>\n",
              "      <td>70.984001</td>\n",
              "      <td>72.547997</td>\n",
              "      <td>70.646004</td>\n",
              "      <td>71.935997</td>\n",
              "      <td>71.935997</td>\n",
              "      <td>38819500</td>\n",
              "    </tr>\n",
              "  </tbody>\n",
              "</table>\n",
              "</div>"
            ],
            "text/plain": [
              "                 Open       High        Low      Close  Adj Close    Volume\n",
              "Date                                                                       \n",
              "2019-12-06  67.000000  67.772003  66.954002  67.178001  67.178001  38062000\n",
              "2019-12-09  67.318001  68.889999  67.015999  67.905998  67.905998  45115500\n",
              "2019-12-10  67.991997  70.146004  67.862000  69.767998  69.767998  44141500\n",
              "2019-12-11  70.375999  71.438004  70.218002  70.540001  70.540001  34489000\n",
              "2019-12-12  70.984001  72.547997  70.646004  71.935997  71.935997  38819500"
            ]
          },
          "metadata": {},
          "execution_count": 4
        }
      ]
    },
    {
      "cell_type": "code",
      "metadata": {
        "id": "1Tr8JpEjJzCV",
        "colab": {
          "base_uri": "https://localhost:8080/",
          "height": 204
        },
        "outputId": "c9fd2d95-227c-4410-add7-b3f90f98c0fe"
      },
      "source": [
        "cols = [ \"Date\", \"Close\", \"Volume\" ]\n",
        "tsla_data = pd.read_csv(\"https://raw.githubusercontent.com/jafetimbre/verbose-projects/master/statistics/stock-price-pred/res/tsla_2yr_data.csv\", usecols=cols)\n",
        "tsla_data.head()"
      ],
      "execution_count": 5,
      "outputs": [
        {
          "output_type": "execute_result",
          "data": {
            "text/html": [
              "<div>\n",
              "<style scoped>\n",
              "    .dataframe tbody tr th:only-of-type {\n",
              "        vertical-align: middle;\n",
              "    }\n",
              "\n",
              "    .dataframe tbody tr th {\n",
              "        vertical-align: top;\n",
              "    }\n",
              "\n",
              "    .dataframe thead th {\n",
              "        text-align: right;\n",
              "    }\n",
              "</style>\n",
              "<table border=\"1\" class=\"dataframe\">\n",
              "  <thead>\n",
              "    <tr style=\"text-align: right;\">\n",
              "      <th></th>\n",
              "      <th>Date</th>\n",
              "      <th>Close</th>\n",
              "      <th>Volume</th>\n",
              "    </tr>\n",
              "  </thead>\n",
              "  <tbody>\n",
              "    <tr>\n",
              "      <th>0</th>\n",
              "      <td>2019-11-25</td>\n",
              "      <td>67.267998</td>\n",
              "      <td>61697500</td>\n",
              "    </tr>\n",
              "    <tr>\n",
              "      <th>1</th>\n",
              "      <td>2019-11-26</td>\n",
              "      <td>65.783997</td>\n",
              "      <td>39737000</td>\n",
              "    </tr>\n",
              "    <tr>\n",
              "      <th>2</th>\n",
              "      <td>2019-11-27</td>\n",
              "      <td>66.258003</td>\n",
              "      <td>27778000</td>\n",
              "    </tr>\n",
              "    <tr>\n",
              "      <th>3</th>\n",
              "      <td>2019-11-29</td>\n",
              "      <td>65.987999</td>\n",
              "      <td>12328000</td>\n",
              "    </tr>\n",
              "    <tr>\n",
              "      <th>4</th>\n",
              "      <td>2019-12-02</td>\n",
              "      <td>66.973999</td>\n",
              "      <td>30372500</td>\n",
              "    </tr>\n",
              "  </tbody>\n",
              "</table>\n",
              "</div>"
            ],
            "text/plain": [
              "         Date      Close    Volume\n",
              "0  2019-11-25  67.267998  61697500\n",
              "1  2019-11-26  65.783997  39737000\n",
              "2  2019-11-27  66.258003  27778000\n",
              "3  2019-11-29  65.987999  12328000\n",
              "4  2019-12-02  66.973999  30372500"
            ]
          },
          "metadata": {},
          "execution_count": 5
        }
      ]
    },
    {
      "cell_type": "code",
      "metadata": {
        "id": "ijgX0QjjK4_m",
        "colab": {
          "base_uri": "https://localhost:8080/",
          "height": 298
        },
        "outputId": "338f6517-a3ed-4e8e-9445-3940b5c1a4b2"
      },
      "source": [
        "plt.title(\"Valoarea actiunilor Tesla\")\n",
        "plt.plot(tsla_data.Close)"
      ],
      "execution_count": 6,
      "outputs": [
        {
          "output_type": "execute_result",
          "data": {
            "text/plain": [
              "[<matplotlib.lines.Line2D at 0x7fbe9e2b3fd0>]"
            ]
          },
          "metadata": {},
          "execution_count": 6
        },
        {
          "output_type": "display_data",
          "data": {
            "image/png": "[encoded data removed]",
            "text/plain": [
              "<Figure size 432x288 with 1 Axes>"
            ]
          },
          "metadata": {
            "needs_background": "light"
          }
        }
      ]
    },
    {
      "cell_type": "code",
      "metadata": {
        "id": "zv2be_x8LtHX"
      },
      "source": [
        "max = tsla_data.Close.max()\n",
        "real = pd.DataFrame({'value': tsla_data.Close / max})"
      ],
      "execution_count": 7,
      "outputs": []
    },
    {
      "cell_type": "code",
      "metadata": {
        "colab": {
          "base_uri": "https://localhost:8080/",
          "height": 204
        },
        "id": "0JnLGyKblmcT",
        "outputId": "efc75b33-11d3-4289-9725-edaa056b849e"
      },
      "source": [
        "real.head()"
      ],
      "execution_count": 8,
      "outputs": [
        {
          "output_type": "execute_result",
          "data": {
            "text/html": [
              "<div>\n",
              "<style scoped>\n",
              "    .dataframe tbody tr th:only-of-type {\n",
              "        vertical-align: middle;\n",
              "    }\n",
              "\n",
              "    .dataframe tbody tr th {\n",
              "        vertical-align: top;\n",
              "    }\n",
              "\n",
              "    .dataframe thead th {\n",
              "        text-align: right;\n",
              "    }\n",
              "</style>\n",
              "<table border=\"1\" class=\"dataframe\">\n",
              "  <thead>\n",
              "    <tr style=\"text-align: right;\">\n",
              "      <th></th>\n",
              "      <th>value</th>\n",
              "    </tr>\n",
              "  </thead>\n",
              "  <tbody>\n",
              "    <tr>\n",
              "      <th>0</th>\n",
              "      <td>0.054693</td>\n",
              "    </tr>\n",
              "    <tr>\n",
              "      <th>1</th>\n",
              "      <td>0.053487</td>\n",
              "    </tr>\n",
              "    <tr>\n",
              "      <th>2</th>\n",
              "      <td>0.053872</td>\n",
              "    </tr>\n",
              "    <tr>\n",
              "      <th>3</th>\n",
              "      <td>0.053653</td>\n",
              "    </tr>\n",
              "    <tr>\n",
              "      <th>4</th>\n",
              "      <td>0.054454</td>\n",
              "    </tr>\n",
              "  </tbody>\n",
              "</table>\n",
              "</div>"
            ],
            "text/plain": [
              "      value\n",
              "0  0.054693\n",
              "1  0.053487\n",
              "2  0.053872\n",
              "3  0.053653\n",
              "4  0.054454"
            ]
          },
          "metadata": {},
          "execution_count": 8
        }
      ]
    },
    {
      "cell_type": "code",
      "metadata": {
        "id": "KUwIC30KyPNh"
      },
      "source": [
        ""
      ],
      "execution_count": 8,
      "outputs": []
    },
    {
      "cell_type": "code",
      "metadata": {
        "id": "HkO6YpkAyJnK"
      },
      "source": [
        "class Errors():\n",
        "    '''\n",
        "    Ex. Residual.Residual(real_data, forcast_data)\n",
        "        MAD.MAD(real_data, forcast_data)\n",
        "        MSE.MSE(real_data, forcast_data)\n",
        "        MAPE.MAPE(real_data, forcast_data)\n",
        "    '''\n",
        "    @staticmethod\n",
        "    def Residual(real_data, forcast_data):\n",
        "        error = real_data - forcast_data\n",
        "        error.dropna(inplace=True)\n",
        "        return error\n",
        "    \n",
        "    @staticmethod\n",
        "    def MAD(real_data, forcast_data):\n",
        "        error = Errors.Residual(real_data, forcast_data)\n",
        "        abs_err = abs(error)\n",
        "        return np.average(abs_err)\n",
        "\n",
        "    @staticmethod\n",
        "    def MSE(real_data, forcast_data):\n",
        "        error = Errors.Residual(real_data, forcast_data)\n",
        "        sq_err = error ** 2\n",
        "        return np.average(sq_err)\n",
        "    \n",
        "    @staticmethod\n",
        "    def MAPE(real_data, forcast_data):\n",
        "        error = Errors.Residual(real_data, forcast_data)\n",
        "        abs_err = abs(error)\n",
        "        abs_pr_err = abs_err / real_data\n",
        "        abs_pr_err.dropna(inplace=True)\n",
        "        mape = np.average(abs_pr_err)"
      ],
      "execution_count": 9,
      "outputs": []
    },
    {
      "cell_type": "code",
      "metadata": {
        "id": "ipM7rBpDtk9-"
      },
      "source": [
        "class MovingAverage():\n",
        "    '''\n",
        "    Ex. MovingAverage.forcast(data, n)\n",
        "        MovingAverage.solve(data, Errors.MAD, rng=[2,3,4])\n",
        "    '''\n",
        "    @staticmethod\n",
        "    def forcast(data, n):\n",
        "        l = len(data)\n",
        "\n",
        "        res = pd.DataFrame(data={'val': np.zeros(l - n + 1)}, index=[i for i in range(n, l + 1)])\n",
        "        res.val = [ np.sum(data[i-n:i]).val / n for i in range(n, len(data) + 1) ]\n",
        "\n",
        "        return res\n",
        "    \n",
        "    @staticmethod\n",
        "    def solve(data, err_f, rng=[2, 3]):\n",
        "        min = 999999999999\n",
        "        min_n = 999999999999\n",
        "\n",
        "        for i in rng:\n",
        "            val = err_f(data, MovingAverage.forcast(data, i))\n",
        "            if val < min:\n",
        "                min = val\n",
        "                min_n = i\n",
        "            \n",
        "        return (min_n, min)"
      ],
      "execution_count": 10,
      "outputs": []
    },
    {
      "cell_type": "code",
      "metadata": {
        "id": "ksY_7t0DpJtM"
      },
      "source": [
        "class WeightedMovingAverage():\n",
        "    '''\n",
        "    Ex. WeightedMovingAverage.forcast(data, weights=[.2, .8])\n",
        "        WeightedMovingAverage.solve(a, Errors.MAD, nr_w=2, acc=2)\n",
        "    '''\n",
        "\n",
        "    @staticmethod\n",
        "    def forcast(data, weights):\n",
        "        if sum(weights) < 0 or sum(weights) > 1:\n",
        "            raise NameError('Weights sum not in [0, 1] range')\n",
        "\n",
        "        n = len(weights)\n",
        "        l = len(data)\n",
        "\n",
        "        res = pd.DataFrame(data={'val': np.zeros(l - n + 1)}, index=[i for i in range(n, l + 1)])\n",
        "        res.val = [ np.sum(data[i-n:i].val * weights[::-1]) for i in range(n, len(data) + 1) ]\n",
        "\n",
        "        return res\n",
        "\n",
        "\n",
        "    @staticmethod\n",
        "    def solve(data, err_f, nr_w=2, acc=2):\n",
        "        s = 1 / (10 ** acc)\n",
        "        comb = [*itertools.product([ i for i in np.arange(0, 1, s) ], repeat=nr_w)]\n",
        "        filt_comb = filter(lambda x: np.sum(x) == 1, comb)\n",
        "        min = 999999999999\n",
        "        min_comb = ()\n",
        "        \n",
        "        for i in filt_comb:\n",
        "            # print([*i])\n",
        "            val = err_f(data, WeightedMovingAverage.forcast(data, [*i]))\n",
        "            if val < min:\n",
        "                min = val\n",
        "                min_comb = i\n",
        "            \n",
        "        return (min_comb, min)"
      ],
      "execution_count": 11,
      "outputs": []
    },
    {
      "cell_type": "code",
      "metadata": {
        "id": "VPiYyn9OuJPo"
      },
      "source": [
        "class ExponentialSmoothing():\n",
        "    '''\n",
        "    Ex. ExponentialSmoothing.forcast(data, alpha)\n",
        "        ExponentialSmoothing.solve(data, Errors.MAD, acc=3)\n",
        "    '''\n",
        "\n",
        "    @staticmethod\n",
        "    def forcast(data, alpha):\n",
        "        l = len(data)\n",
        "        res = pd.DataFrame(data={'val': np.zeros(l + 1)})\n",
        "        res.val[0] = data.val[0]\n",
        "\n",
        "        for i in range(l):\n",
        "            res.val[i + 1] = (alpha*data.val[i]) + ((1-alpha)*res.val[i])\n",
        "\n",
        "        return res\n",
        "\n",
        "\n",
        "    @staticmethod\n",
        "    def solve(data, err_f, acc=2):\n",
        "        s = 1 / (10 ** acc)\n",
        "        min = 999999999999\n",
        "\n",
        "        for i in np.arange(0, 1, s):\n",
        "            val = err_f(data, ExponentialSmoothing.forcast(data, i))\n",
        "            if val < min:\n",
        "                min = val\n",
        "            \n",
        "        return min"
      ],
      "execution_count": 12,
      "outputs": []
    },
    {
      "cell_type": "code",
      "metadata": {
        "id": "5E2GyUNzAM6O"
      },
      "source": [
        ""
      ],
      "execution_count": 12,
      "outputs": []
    },
    {
      "cell_type": "code",
      "metadata": {
        "id": "pJja76wLAM3o"
      },
      "source": [
        ""
      ],
      "execution_count": 12,
      "outputs": []
    },
    {
      "cell_type": "code",
      "metadata": {
        "id": "KIwUz94wAM1N"
      },
      "source": [
        ""
      ],
      "execution_count": 12,
      "outputs": []
    },
    {
      "cell_type": "code",
      "metadata": {
        "id": "91lpYn30qdEN"
      },
      "source": [
        "\n",
        "# plt.plot(err.index, err, label = \"Error\", linewidth=2)"
      ],
      "execution_count": 13,
      "outputs": []
    },
    {
      "cell_type": "code",
      "metadata": {
        "id": "GxWCOXiSRtrw"
      },
      "source": [
        ""
      ],
      "execution_count": 13,
      "outputs": []
    },
    {
      "cell_type": "code",
      "metadata": {
        "id": "u_SutZ6kRIZk"
      },
      "source": [
        "# plt.figure(figsize=(20,10))\n",
        "# plt.plot(real.index, real, label = \"True\", linewidth=2)\n",
        "# plt.plot(ma2.index, ma2, label = \"MA2\", linewidth=2, alpha=0.7)\n",
        "# plt.plot(ma3.index, ma3, label = \"MA3\", linewidth=2, alpha=0.7)\n",
        "# plt.legend()\n",
        "# plt.show()"
      ],
      "execution_count": 14,
      "outputs": []
    },
    {
      "cell_type": "code",
      "metadata": {
        "id": "L9_ecDYengun"
      },
      "source": [
        ""
      ],
      "execution_count": 14,
      "outputs": []
    }
  ]
}